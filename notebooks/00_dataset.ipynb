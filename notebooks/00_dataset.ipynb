{
 "cells": [
  {
   "cell_type": "markdown",
   "metadata": {
    "id": "a2jji3LQ0LAp"
   },
   "source": [
    "# Preparing Dataset\n",
    "---\n"
   ]
  },
  {
   "cell_type": "code",
   "execution_count": 1,
   "metadata": {},
   "outputs": [],
   "source": [
    "%matplotlib widget"
   ]
  },
  {
   "cell_type": "code",
   "execution_count": 2,
   "metadata": {},
   "outputs": [
    {
     "name": "stdout",
     "output_type": "stream",
     "text": [
      "00_dataset.ipynb\t     ant_transfer_learning_tutorial.ipynb\n",
      "01_training.ipynb\t     artifacts\n",
      "01_training__output.ipynb    data\n",
      "01_training_raw_food.ipynb   lightning_logs\n",
      "02_torch_optimization.ipynb  milestone1_partial_solution_3classes.ipynb\n",
      "Untitled.ipynb\t\t     requirements.txt\n",
      "Untitled1.ipynb\t\t     train.py\n",
      "__pycache__\t\t     utility.py\n"
     ]
    }
   ],
   "source": [
    "!ls"
   ]
  },
  {
   "cell_type": "markdown",
   "metadata": {},
   "source": [
    "## Imports"
   ]
  },
  {
   "cell_type": "code",
   "execution_count": 3,
   "metadata": {},
   "outputs": [],
   "source": [
    "import datetime\n",
    "import wandb\n",
    "from matplotlib import pyplot as plt\n",
    "import sklearn\n",
    "import os\n",
    "import glob\n",
    "import pandas as pd\n",
    "import numpy as np\n",
    "import torch\n",
    "import fiftyone as fo\n",
    "import warnings\n",
    "import itertools\n",
    "import timeit\n",
    "import json\n",
    "import torchinfo\n",
    "import pytorch_lightning as pl\n",
    "import sklearn.model_selection\n",
    "import joblib\n",
    "\n",
    "import utility\n"
   ]
  },
  {
   "cell_type": "code",
   "execution_count": 4,
   "metadata": {},
   "outputs": [
    {
     "name": "stdout",
     "output_type": "stream",
     "text": [
      "Global seed set to 99\n"
     ]
    },
    {
     "data": {
      "text/plain": [
       "99"
      ]
     },
     "execution_count": 4,
     "metadata": {},
     "output_type": "execute_result"
    }
   ],
   "source": [
    "pl.seed_everything(99)"
   ]
  },
  {
   "cell_type": "markdown",
   "metadata": {},
   "source": [
    "## Parameters\n"
   ]
  },
  {
   "cell_type": "code",
   "execution_count": 5,
   "metadata": {
    "tags": [
     "parameters"
    ]
   },
   "outputs": [],
   "source": [
    "model_name = 'resnet34'"
   ]
  },
  {
   "cell_type": "code",
   "execution_count": null,
   "metadata": {},
   "outputs": [],
   "source": []
  },
  {
   "cell_type": "code",
   "execution_count": null,
   "metadata": {},
   "outputs": [],
   "source": []
  },
  {
   "cell_type": "markdown",
   "metadata": {},
   "source": [
    "## Setup"
   ]
  },
  {
   "cell_type": "markdown",
   "metadata": {},
   "source": [
    "uncomment to download"
   ]
  },
  {
   "cell_type": "code",
   "execution_count": 6,
   "metadata": {},
   "outputs": [],
   "source": [
    "#!wget http://data.vision.ee.ethz.ch/cvl/food-101.tar.gz\n",
    "#!tar -xvf food-101.tar.gz"
   ]
  },
  {
   "cell_type": "markdown",
   "metadata": {},
   "source": [
    "## Prepare dataset"
   ]
  },
  {
   "cell_type": "code",
   "execution_count": 7,
   "metadata": {},
   "outputs": [
    {
     "name": "stdout",
     "output_type": "stream",
     "text": [
      "Note: NumExpr detected 16 cores but \"NUMEXPR_MAX_THREADS\" not set, so enforcing safe limit of 8.\n",
      "NumExpr defaulting to 8 threads.\n"
     ]
    }
   ],
   "source": [
    "df = pd.read_csv(\"data/food-101/meta/train.txt\",header=None,names=['file_path'])\n",
    "df['label_name'] = df['file_path'].apply(lambda x:x.split(\"/\")[-2])\n",
    "df['file_path'] = \"data/food-101/images/\" + df[\"file_path\"]+\".jpg\"\n",
    "\n",
    "\n"
   ]
  },
  {
   "cell_type": "code",
   "execution_count": 8,
   "metadata": {},
   "outputs": [
    {
     "data": {
      "text/html": [
       "<div>\n",
       "<style scoped>\n",
       "    .dataframe tbody tr th:only-of-type {\n",
       "        vertical-align: middle;\n",
       "    }\n",
       "\n",
       "    .dataframe tbody tr th {\n",
       "        vertical-align: top;\n",
       "    }\n",
       "\n",
       "    .dataframe thead th {\n",
       "        text-align: right;\n",
       "    }\n",
       "</style>\n",
       "<table border=\"1\" class=\"dataframe\">\n",
       "  <thead>\n",
       "    <tr style=\"text-align: right;\">\n",
       "      <th></th>\n",
       "      <th>file_path</th>\n",
       "      <th>label_name</th>\n",
       "    </tr>\n",
       "  </thead>\n",
       "  <tbody>\n",
       "    <tr>\n",
       "      <th>0</th>\n",
       "      <td>data/food-101/images/apple_pie/1005649.jpg</td>\n",
       "      <td>apple_pie</td>\n",
       "    </tr>\n",
       "    <tr>\n",
       "      <th>1</th>\n",
       "      <td>data/food-101/images/apple_pie/1014775.jpg</td>\n",
       "      <td>apple_pie</td>\n",
       "    </tr>\n",
       "    <tr>\n",
       "      <th>2</th>\n",
       "      <td>data/food-101/images/apple_pie/1026328.jpg</td>\n",
       "      <td>apple_pie</td>\n",
       "    </tr>\n",
       "    <tr>\n",
       "      <th>3</th>\n",
       "      <td>data/food-101/images/apple_pie/1028787.jpg</td>\n",
       "      <td>apple_pie</td>\n",
       "    </tr>\n",
       "    <tr>\n",
       "      <th>4</th>\n",
       "      <td>data/food-101/images/apple_pie/1043283.jpg</td>\n",
       "      <td>apple_pie</td>\n",
       "    </tr>\n",
       "  </tbody>\n",
       "</table>\n",
       "</div>"
      ],
      "text/plain": [
       "                                    file_path label_name\n",
       "0  data/food-101/images/apple_pie/1005649.jpg  apple_pie\n",
       "1  data/food-101/images/apple_pie/1014775.jpg  apple_pie\n",
       "2  data/food-101/images/apple_pie/1026328.jpg  apple_pie\n",
       "3  data/food-101/images/apple_pie/1028787.jpg  apple_pie\n",
       "4  data/food-101/images/apple_pie/1043283.jpg  apple_pie"
      ]
     },
     "execution_count": 8,
     "metadata": {},
     "output_type": "execute_result"
    }
   ],
   "source": [
    "df.head()"
   ]
  },
  {
   "cell_type": "code",
   "execution_count": null,
   "metadata": {},
   "outputs": [],
   "source": []
  },
  {
   "cell_type": "code",
   "execution_count": 9,
   "metadata": {},
   "outputs": [],
   "source": [
    "label_encoder = sklearn.preprocessing.LabelEncoder()\n"
   ]
  },
  {
   "cell_type": "code",
   "execution_count": 10,
   "metadata": {},
   "outputs": [
    {
     "data": {
      "text/plain": [
       "LabelEncoder()"
      ]
     },
     "execution_count": 10,
     "metadata": {},
     "output_type": "execute_result"
    }
   ],
   "source": [
    "label_encoder.fit(df['label_name'])\n"
   ]
  },
  {
   "cell_type": "code",
   "execution_count": 11,
   "metadata": {},
   "outputs": [],
   "source": [
    "df['label'] = label_encoder.transform(df['label_name'])\n"
   ]
  },
  {
   "cell_type": "code",
   "execution_count": 12,
   "metadata": {},
   "outputs": [],
   "source": [
    "df_eval = pd.read_csv(\"data/food-101/meta/test.txt\",header=None,names=['file_path'])\n",
    "df_eval['label_name'] = df_eval['file_path'].apply(lambda x:x.split(\"/\")[-2])\n",
    "df_eval['file_path'] = \"data/food-101/images/\" + df_eval[\"file_path\"]+\".jpg\"\n",
    "df_eval['label'] = label_encoder.transform(df_eval['label_name'])\n"
   ]
  },
  {
   "cell_type": "code",
   "execution_count": 13,
   "metadata": {},
   "outputs": [],
   "source": [
    "#!ls data/food-101/images"
   ]
  },
  {
   "cell_type": "code",
   "execution_count": 14,
   "metadata": {},
   "outputs": [
    {
     "data": {
      "text/html": [
       "<div>\n",
       "<style scoped>\n",
       "    .dataframe tbody tr th:only-of-type {\n",
       "        vertical-align: middle;\n",
       "    }\n",
       "\n",
       "    .dataframe tbody tr th {\n",
       "        vertical-align: top;\n",
       "    }\n",
       "\n",
       "    .dataframe thead th {\n",
       "        text-align: right;\n",
       "    }\n",
       "</style>\n",
       "<table border=\"1\" class=\"dataframe\">\n",
       "  <thead>\n",
       "    <tr style=\"text-align: right;\">\n",
       "      <th></th>\n",
       "      <th>file_path</th>\n",
       "      <th>label_name</th>\n",
       "      <th>label</th>\n",
       "    </tr>\n",
       "  </thead>\n",
       "  <tbody>\n",
       "    <tr>\n",
       "      <th>0</th>\n",
       "      <td>data/food-101/images/apple_pie/1011328.jpg</td>\n",
       "      <td>apple_pie</td>\n",
       "      <td>0</td>\n",
       "    </tr>\n",
       "    <tr>\n",
       "      <th>1</th>\n",
       "      <td>data/food-101/images/apple_pie/101251.jpg</td>\n",
       "      <td>apple_pie</td>\n",
       "      <td>0</td>\n",
       "    </tr>\n",
       "    <tr>\n",
       "      <th>2</th>\n",
       "      <td>data/food-101/images/apple_pie/1034399.jpg</td>\n",
       "      <td>apple_pie</td>\n",
       "      <td>0</td>\n",
       "    </tr>\n",
       "    <tr>\n",
       "      <th>3</th>\n",
       "      <td>data/food-101/images/apple_pie/103801.jpg</td>\n",
       "      <td>apple_pie</td>\n",
       "      <td>0</td>\n",
       "    </tr>\n",
       "    <tr>\n",
       "      <th>4</th>\n",
       "      <td>data/food-101/images/apple_pie/1038694.jpg</td>\n",
       "      <td>apple_pie</td>\n",
       "      <td>0</td>\n",
       "    </tr>\n",
       "  </tbody>\n",
       "</table>\n",
       "</div>"
      ],
      "text/plain": [
       "                                    file_path label_name  label\n",
       "0  data/food-101/images/apple_pie/1011328.jpg  apple_pie      0\n",
       "1   data/food-101/images/apple_pie/101251.jpg  apple_pie      0\n",
       "2  data/food-101/images/apple_pie/1034399.jpg  apple_pie      0\n",
       "3   data/food-101/images/apple_pie/103801.jpg  apple_pie      0\n",
       "4  data/food-101/images/apple_pie/1038694.jpg  apple_pie      0"
      ]
     },
     "execution_count": 14,
     "metadata": {},
     "output_type": "execute_result"
    }
   ],
   "source": [
    "df_eval.head()"
   ]
  },
  {
   "cell_type": "code",
   "execution_count": 15,
   "metadata": {},
   "outputs": [],
   "source": [
    "# split the dataset; 85% for training and 15 % for testing\n",
    "df_train, df_test = sklearn.model_selection.train_test_split(df, test_size=0.15, stratify=df['label'],shuffle = True) \n",
    "\n",
    "# split the training dataset: 80% for actual training and 20% for validation\n",
    "df_train, df_val = sklearn.model_selection.train_test_split(df_train, test_size=0.20, random_state=1 , stratify=df_train['label'])"
   ]
  },
  {
   "cell_type": "code",
   "execution_count": 16,
   "metadata": {},
   "outputs": [
    {
     "name": "stdout",
     "output_type": "stream",
     "text": [
      "{'train': 51509, 'test': 11363, 'val': 12878, 'eval': 25250}\n"
     ]
    }
   ],
   "source": [
    "print ({\"train\": len(df_train), \"test\":len(df_test), \"val\":len(df_val) ,\"eval\": len(df_eval)  })"
   ]
  },
  {
   "cell_type": "code",
   "execution_count": null,
   "metadata": {},
   "outputs": [],
   "source": []
  },
  {
   "cell_type": "code",
   "execution_count": null,
   "metadata": {},
   "outputs": [],
   "source": []
  },
  {
   "cell_type": "code",
   "execution_count": 17,
   "metadata": {},
   "outputs": [
    {
     "data": {
      "text/plain": [
       "prime_rib               510\n",
       "club_sandwich           510\n",
       "garlic_bread            510\n",
       "chicken_wings           510\n",
       "strawberry_shortcake    510\n",
       "                       ... \n",
       "frozen_yogurt           510\n",
       "pork_chop               510\n",
       "omelette                510\n",
       "beet_salad              510\n",
       "pancakes                509\n",
       "Name: label_name, Length: 101, dtype: int64"
      ]
     },
     "execution_count": 17,
     "metadata": {},
     "output_type": "execute_result"
    }
   ],
   "source": [
    "df_train['label_name'].value_counts()"
   ]
  },
  {
   "cell_type": "code",
   "execution_count": null,
   "metadata": {},
   "outputs": [],
   "source": []
  },
  {
   "cell_type": "code",
   "execution_count": 18,
   "metadata": {},
   "outputs": [
    {
     "data": {
      "text/plain": [
       "array(['apple_pie', 'baby_back_ribs', 'baklava', 'beef_carpaccio',\n",
       "       'beef_tartare', 'beet_salad', 'beignets', 'bibimbap',\n",
       "       'bread_pudding', 'breakfast_burrito', 'bruschetta', 'caesar_salad',\n",
       "       'cannoli', 'caprese_salad', 'carrot_cake', 'ceviche',\n",
       "       'cheese_plate', 'cheesecake', 'chicken_curry',\n",
       "       'chicken_quesadilla', 'chicken_wings', 'chocolate_cake',\n",
       "       'chocolate_mousse', 'churros', 'clam_chowder', 'club_sandwich',\n",
       "       'crab_cakes', 'creme_brulee', 'croque_madame', 'cup_cakes',\n",
       "       'deviled_eggs', 'donuts', 'dumplings', 'edamame', 'eggs_benedict',\n",
       "       'escargots', 'falafel', 'filet_mignon', 'fish_and_chips',\n",
       "       'foie_gras', 'french_fries', 'french_onion_soup', 'french_toast',\n",
       "       'fried_calamari', 'fried_rice', 'frozen_yogurt', 'garlic_bread',\n",
       "       'gnocchi', 'greek_salad', 'grilled_cheese_sandwich',\n",
       "       'grilled_salmon', 'guacamole', 'gyoza', 'hamburger',\n",
       "       'hot_and_sour_soup', 'hot_dog', 'huevos_rancheros', 'hummus',\n",
       "       'ice_cream', 'lasagna', 'lobster_bisque', 'lobster_roll_sandwich',\n",
       "       'macaroni_and_cheese', 'macarons', 'miso_soup', 'mussels',\n",
       "       'nachos', 'omelette', 'onion_rings', 'oysters', 'pad_thai',\n",
       "       'paella', 'pancakes', 'panna_cotta', 'peking_duck', 'pho', 'pizza',\n",
       "       'pork_chop', 'poutine', 'prime_rib', 'pulled_pork_sandwich',\n",
       "       'ramen', 'ravioli', 'red_velvet_cake', 'risotto', 'samosa',\n",
       "       'sashimi', 'scallops', 'seaweed_salad', 'shrimp_and_grits',\n",
       "       'spaghetti_bolognese', 'spaghetti_carbonara', 'spring_rolls',\n",
       "       'steak', 'strawberry_shortcake', 'sushi', 'tacos', 'takoyaki',\n",
       "       'tiramisu', 'tuna_tartare', 'waffles'], dtype=object)"
      ]
     },
     "execution_count": 18,
     "metadata": {},
     "output_type": "execute_result"
    }
   ],
   "source": [
    "label_encoder.classes_"
   ]
  },
  {
   "cell_type": "markdown",
   "metadata": {},
   "source": [
    "## Artifacts"
   ]
  },
  {
   "cell_type": "code",
   "execution_count": 19,
   "metadata": {},
   "outputs": [],
   "source": [
    "df_train.to_parquet(\"artifacts/data/df_train.parquet\",index=False)\n",
    "df_test.to_parquet(\"artifacts/data/df_test.parquet\",index=False)\n",
    "df_val.to_parquet(\"artifacts/data/df_val.parquet\",index=False)\n",
    "df_eval.to_parquet(\"artifacts/data/df_eval.parquet\",index=False)"
   ]
  },
  {
   "cell_type": "code",
   "execution_count": 20,
   "metadata": {},
   "outputs": [
    {
     "data": {
      "text/plain": [
       "['artifacts/label_encoder.joblib']"
      ]
     },
     "execution_count": 20,
     "metadata": {},
     "output_type": "execute_result"
    }
   ],
   "source": [
    "joblib.dump(label_encoder, 'artifacts/label_encoder.joblib')\n"
   ]
  },
  {
   "cell_type": "code",
   "execution_count": 21,
   "metadata": {},
   "outputs": [],
   "source": [
    "with open(\"artifacts/classes.txt\",\"w\") as f:\n",
    "    content = json.dumps(label_encoder.classes_.tolist())\n",
    "    f.write(content)\n"
   ]
  },
  {
   "cell_type": "code",
   "execution_count": null,
   "metadata": {},
   "outputs": [],
   "source": []
  },
  {
   "cell_type": "code",
   "execution_count": null,
   "metadata": {
    "id": "xVz7Xf40tPPP"
   },
   "outputs": [],
   "source": []
  },
  {
   "cell_type": "code",
   "execution_count": null,
   "metadata": {},
   "outputs": [],
   "source": []
  }
 ],
 "metadata": {
  "accelerator": "GPU",
  "celltoolbar": "Tags",
  "colab": {
   "collapsed_sections": [],
   "name": "milestone1_partial_solution_3classes.ipynb",
   "provenance": [],
   "toc_visible": true
  },
  "environment": {
   "name": "rapids-gpu.0-18.m65",
   "type": "gcloud",
   "uri": "gcr.io/deeplearning-platform-release/rapids-gpu.0-18:m65"
  },
  "kernelspec": {
   "display_name": "Python [conda env:pt]",
   "language": "python",
   "name": "conda-env-pt-py"
  },
  "language_info": {
   "codemirror_mode": {
    "name": "ipython",
    "version": 3
   },
   "file_extension": ".py",
   "mimetype": "text/x-python",
   "name": "python",
   "nbconvert_exporter": "python",
   "pygments_lexer": "ipython3",
   "version": "3.8.12"
  }
 },
 "nbformat": 4,
 "nbformat_minor": 4
}
