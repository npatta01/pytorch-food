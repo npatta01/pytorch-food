{
 "cells": [
  {
   "cell_type": "markdown",
   "id": "7a4df3f3",
   "metadata": {
    "id": "a2jji3LQ0LAp",
    "papermill": {
     "duration": 1.146352,
     "end_time": "2021-11-08T10:42:38.877506",
     "exception": false,
     "start_time": "2021-11-08T10:42:37.731154",
     "status": "completed"
    },
    "tags": []
   },
   "source": [
    "# Deploy DL Model on Web & Mobile Using Pyotrch\n",
    "---\n",
    "## Milestone 1: Build an image classifier\n",
    "## Partial Solutions Notebook\n",
    "---\n",
    "#### Date updated:  12-September-2021\n",
    "#### Author:  Nidhin Pattaniyil & Reshama Shaikh\n"
   ]
  },
  {
   "cell_type": "code",
   "execution_count": 1,
   "id": "eede8091",
   "metadata": {
    "execution": {
     "iopub.execute_input": "2021-11-08T10:42:41.171171Z",
     "iopub.status.busy": "2021-11-08T10:42:41.170665Z",
     "iopub.status.idle": "2021-11-08T10:42:41.996722Z",
     "shell.execute_reply": "2021-11-08T10:42:41.996125Z"
    },
    "papermill": {
     "duration": 1.040412,
     "end_time": "2021-11-08T10:42:41.996846",
     "exception": false,
     "start_time": "2021-11-08T10:42:40.956434",
     "status": "completed"
    },
    "tags": []
   },
   "outputs": [],
   "source": [
    "%matplotlib widget"
   ]
  },
  {
   "cell_type": "code",
   "execution_count": 2,
   "id": "f1c43211",
   "metadata": {
    "execution": {
     "iopub.execute_input": "2021-11-08T10:42:42.408583Z",
     "iopub.status.busy": "2021-11-08T10:42:42.408077Z",
     "iopub.status.idle": "2021-11-08T10:42:42.520804Z",
     "shell.execute_reply": "2021-11-08T10:42:42.521223Z"
    },
    "papermill": {
     "duration": 0.319189,
     "end_time": "2021-11-08T10:42:42.521379",
     "exception": false,
     "start_time": "2021-11-08T10:42:42.202190",
     "status": "completed"
    },
    "tags": []
   },
   "outputs": [
    {
     "name": "stdout",
     "output_type": "stream",
     "text": [
      "01_training.ipynb\t     ant_transfer_learning_tutorial.ipynb\r\n",
      "01_training__output.ipynb    artifacts\r\n",
      "01_training_raw_food.ipynb   data\r\n",
      "02_torch_optimization.ipynb  lightning_logs\r\n",
      "Untitled.ipynb\t\t     milestone1_partial_solution_3classes.ipynb\r\n",
      "Untitled1.ipynb\t\t     requirements.txt\r\n"
     ]
    }
   ],
   "source": [
    "!ls"
   ]
  },
  {
   "cell_type": "markdown",
   "id": "3d15ec64",
   "metadata": {
    "papermill": {
     "duration": 0.203087,
     "end_time": "2021-11-08T10:42:42.928959",
     "exception": false,
     "start_time": "2021-11-08T10:42:42.725872",
     "status": "completed"
    },
    "tags": []
   },
   "source": [
    "## Imports"
   ]
  },
  {
   "cell_type": "code",
   "execution_count": 3,
   "id": "539b9354",
   "metadata": {
    "execution": {
     "iopub.execute_input": "2021-11-08T10:42:43.345913Z",
     "iopub.status.busy": "2021-11-08T10:42:43.345443Z",
     "iopub.status.idle": "2021-11-08T10:42:54.158837Z",
     "shell.execute_reply": "2021-11-08T10:42:54.159236Z"
    },
    "papermill": {
     "duration": 11.024308,
     "end_time": "2021-11-08T10:42:54.159407",
     "exception": false,
     "start_time": "2021-11-08T10:42:43.135099",
     "status": "completed"
    },
    "tags": []
   },
   "outputs": [],
   "source": [
    "# from datetime import date\n",
    "# from datetime import datetime\n",
    "import datetime\n",
    "import plotly.figure_factory as ff\n",
    "import wandb\n",
    "from matplotlib import pyplot as plt\n",
    "import sklearn\n",
    "import pytorch_lightning as pl\n",
    "import flash\n",
    "import flash.image\n",
    "from flash.core.data.utils import download_data\n",
    "# from flash.image import ImageClassificationData, ImageClassifier\n",
    "import os\n",
    "import glob\n",
    "import pandas as pd\n",
    "import sklearn.model_selection\n",
    "#from sklearn.model_selection import train_test_split \n",
    "#from flash.image.classification.adapters import TRAINING_STRATEGIES\n",
    "# from flash.image.classification.backbones import IMAGE_CLASSIFIER_BACKBONES\n",
    "# from flash.core.classification import Probabilities\n",
    "import numpy as np\n",
    "import torch\n",
    "from torchvision import transforms as T\n",
    "import flash\n",
    "from flash.core.data.data_source import DefaultDataKeys\n",
    "from flash.core.data.transforms import ApplyToKeys, merge_transforms\n",
    "# from flash.image import ImageClassificationData, ImageClassifier\n",
    "# from flash.image.classification.transforms import default_transforms\n",
    "import flash.core.integrations.fiftyone\n",
    "import flash.core.classification \n",
    "import fiftyone as fo\n",
    "import warnings\n",
    "import itertools\n",
    "import timeit\n",
    "import json\n",
    "import torchinfo"
   ]
  },
  {
   "cell_type": "code",
   "execution_count": 4,
   "id": "d85cb815",
   "metadata": {
    "execution": {
     "iopub.execute_input": "2021-11-08T10:42:55.369081Z",
     "iopub.status.busy": "2021-11-08T10:42:55.368633Z",
     "iopub.status.idle": "2021-11-08T10:42:55.374821Z",
     "shell.execute_reply": "2021-11-08T10:42:55.375159Z"
    },
    "papermill": {
     "duration": 1.006351,
     "end_time": "2021-11-08T10:42:55.375283",
     "exception": false,
     "start_time": "2021-11-08T10:42:54.368932",
     "status": "completed"
    },
    "tags": []
   },
   "outputs": [
    {
     "name": "stderr",
     "output_type": "stream",
     "text": [
      "Global seed set to 99\n"
     ]
    },
    {
     "data": {
      "text/plain": [
       "99"
      ]
     },
     "execution_count": 4,
     "metadata": {},
     "output_type": "execute_result"
    }
   ],
   "source": [
    "pl.seed_everything(99)"
   ]
  },
  {
   "cell_type": "code",
   "execution_count": 5,
   "id": "7c18cedf",
   "metadata": {
    "execution": {
     "iopub.execute_input": "2021-11-08T10:42:55.793686Z",
     "iopub.status.busy": "2021-11-08T10:42:55.793236Z",
     "iopub.status.idle": "2021-11-08T10:42:55.795324Z",
     "shell.execute_reply": "2021-11-08T10:42:55.795650Z"
    },
    "papermill": {
     "duration": 0.213299,
     "end_time": "2021-11-08T10:42:55.795778",
     "exception": false,
     "start_time": "2021-11-08T10:42:55.582479",
     "status": "completed"
    },
    "tags": []
   },
   "outputs": [
    {
     "data": {
      "text/plain": [
       "'0.5.2'"
      ]
     },
     "execution_count": 5,
     "metadata": {},
     "output_type": "execute_result"
    }
   ],
   "source": [
    "flash.__version__"
   ]
  },
  {
   "cell_type": "markdown",
   "id": "d1523185",
   "metadata": {
    "papermill": {
     "duration": 0.212312,
     "end_time": "2021-11-08T10:42:56.220381",
     "exception": false,
     "start_time": "2021-11-08T10:42:56.008069",
     "status": "completed"
    },
    "tags": []
   },
   "source": [
    "## Parameters\n"
   ]
  },
  {
   "cell_type": "code",
   "execution_count": 6,
   "id": "c73bdce9",
   "metadata": {
    "execution": {
     "iopub.execute_input": "2021-11-08T10:42:56.645745Z",
     "iopub.status.busy": "2021-11-08T10:42:56.645314Z",
     "iopub.status.idle": "2021-11-08T10:42:56.647237Z",
     "shell.execute_reply": "2021-11-08T10:42:56.646832Z"
    },
    "papermill": {
     "duration": 0.216099,
     "end_time": "2021-11-08T10:42:56.647337",
     "exception": false,
     "start_time": "2021-11-08T10:42:56.431238",
     "status": "completed"
    },
    "tags": [
     "parameters"
    ]
   },
   "outputs": [],
   "source": [
    "model_name = 'resnet34'"
   ]
  },
  {
   "cell_type": "code",
   "execution_count": 7,
   "id": "c1d88c81",
   "metadata": {
    "execution": {
     "iopub.execute_input": "2021-11-08T10:42:57.070566Z",
     "iopub.status.busy": "2021-11-08T10:42:57.070114Z",
     "iopub.status.idle": "2021-11-08T10:42:57.071848Z",
     "shell.execute_reply": "2021-11-08T10:42:57.071451Z"
    },
    "papermill": {
     "duration": 0.214653,
     "end_time": "2021-11-08T10:42:57.071944",
     "exception": false,
     "start_time": "2021-11-08T10:42:56.857291",
     "status": "completed"
    },
    "tags": [
     "injected-parameters"
    ]
   },
   "outputs": [],
   "source": [
    "# Parameters\n",
    "model = \"resnet34\"\n"
   ]
  },
  {
   "cell_type": "markdown",
   "id": "ad5c7470",
   "metadata": {
    "papermill": {
     "duration": 0.208187,
     "end_time": "2021-11-08T10:42:58.751300",
     "exception": false,
     "start_time": "2021-11-08T10:42:58.543113",
     "status": "completed"
    },
    "tags": []
   },
   "source": [
    "## Helper code"
   ]
  },
  {
   "cell_type": "code",
   "execution_count": 8,
   "id": "f65d1fa8",
   "metadata": {
    "execution": {
     "iopub.execute_input": "2021-11-08T10:43:01.849974Z",
     "iopub.status.busy": "2021-11-08T10:43:01.849519Z",
     "iopub.status.idle": "2021-11-08T10:43:01.851252Z",
     "shell.execute_reply": "2021-11-08T10:43:01.851583Z"
    },
    "papermill": {
     "duration": 1.002052,
     "end_time": "2021-11-08T10:43:01.851706",
     "exception": false,
     "start_time": "2021-11-08T10:43:00.849654",
     "status": "completed"
    },
    "tags": []
   },
   "outputs": [],
   "source": [
    "def create_fiftyone_dataset(df:pd.DataFrame, name=\"test_df\"):\n",
    "    samples = []\n",
    "    \n",
    "    if fo.dataset_exists(name):\n",
    "        fo.delete_dataset(name)\n",
    "    for record in df.to_dict(orient='records'):\n",
    "        samples.append(\n",
    "            fo.Sample(\n",
    "                filepath=record['file_path'],\n",
    "                ground_truth=fo.Classification(label=record['label_name']),\n",
    "            )\n",
    "        )\n",
    "    dataset = fo.Dataset(name)\n",
    "    dataset.add_samples(samples)\n",
    "    return dataset"
   ]
  },
  {
   "cell_type": "code",
   "execution_count": null,
   "id": "b9610d01",
   "metadata": {
    "papermill": {
     "duration": 0.209979,
     "end_time": "2021-11-08T10:43:02.271144",
     "exception": false,
     "start_time": "2021-11-08T10:43:02.061165",
     "status": "completed"
    },
    "tags": []
   },
   "outputs": [],
   "source": []
  },
  {
   "cell_type": "code",
   "execution_count": null,
   "id": "6a9010d7",
   "metadata": {
    "papermill": {
     "duration": 0.209541,
     "end_time": "2021-11-08T10:43:02.691708",
     "exception": false,
     "start_time": "2021-11-08T10:43:02.482167",
     "status": "completed"
    },
    "tags": []
   },
   "outputs": [],
   "source": []
  },
  {
   "cell_type": "code",
   "execution_count": 9,
   "id": "8181e631",
   "metadata": {
    "execution": {
     "iopub.execute_input": "2021-11-08T10:43:03.127106Z",
     "iopub.status.busy": "2021-11-08T10:43:03.119447Z",
     "iopub.status.idle": "2021-11-08T10:43:03.243654Z",
     "shell.execute_reply": "2021-11-08T10:43:03.244009Z"
    },
    "papermill": {
     "duration": 0.341029,
     "end_time": "2021-11-08T10:43:03.244164",
     "exception": false,
     "start_time": "2021-11-08T10:43:02.903135",
     "status": "completed"
    },
    "tags": []
   },
   "outputs": [
    {
     "name": "stdout",
     "output_type": "stream",
     "text": [
      "01_training.ipynb\t     ant_transfer_learning_tutorial.ipynb\r\n",
      "01_training__output.ipynb    artifacts\r\n",
      "01_training_raw_food.ipynb   data\r\n",
      "02_torch_optimization.ipynb  lightning_logs\r\n",
      "Untitled.ipynb\t\t     milestone1_partial_solution_3classes.ipynb\r\n",
      "Untitled1.ipynb\t\t     requirements.txt\r\n"
     ]
    }
   ],
   "source": [
    "!ls"
   ]
  },
  {
   "cell_type": "code",
   "execution_count": 10,
   "id": "1cdb592d",
   "metadata": {
    "execution": {
     "iopub.execute_input": "2021-11-08T10:43:03.669623Z",
     "iopub.status.busy": "2021-11-08T10:43:03.669136Z",
     "iopub.status.idle": "2021-11-08T10:43:03.671343Z",
     "shell.execute_reply": "2021-11-08T10:43:03.671725Z"
    },
    "id": "8LRWAJYt4jv8",
    "papermill": {
     "duration": 0.216272,
     "end_time": "2021-11-08T10:43:03.671859",
     "exception": false,
     "start_time": "2021-11-08T10:43:03.455587",
     "status": "completed"
    },
    "tags": []
   },
   "outputs": [
    {
     "name": "stdout",
     "output_type": "stream",
     "text": [
      "Today's date: 2021-11-08\n"
     ]
    }
   ],
   "source": [
    "\n",
    "\n",
    "current_date = datetime.date.today()\n",
    "print(\"Today's date:\", current_date)"
   ]
  },
  {
   "cell_type": "code",
   "execution_count": 11,
   "id": "ec5dd8f5",
   "metadata": {
    "execution": {
     "iopub.execute_input": "2021-11-08T10:43:06.183823Z",
     "iopub.status.busy": "2021-11-08T10:43:06.182817Z",
     "iopub.status.idle": "2021-11-08T10:43:06.186202Z",
     "shell.execute_reply": "2021-11-08T10:43:06.185715Z"
    },
    "id": "Q1Y5mbjxwm_-",
    "papermill": {
     "duration": 1.040289,
     "end_time": "2021-11-08T10:43:06.186359",
     "exception": false,
     "start_time": "2021-11-08T10:43:05.146070",
     "status": "completed"
    },
    "tags": []
   },
   "outputs": [
    {
     "name": "stdout",
     "output_type": "stream",
     "text": [
      "Start Time = 10:43:05\n"
     ]
    }
   ],
   "source": [
    "now1 = datetime.datetime.now()\n",
    "\n",
    "start_time = now1.strftime(\"%H:%M:%S\")\n",
    "print(\"Start Time =\", start_time)"
   ]
  },
  {
   "cell_type": "code",
   "execution_count": 12,
   "id": "8ea44c70",
   "metadata": {
    "execution": {
     "iopub.execute_input": "2021-11-08T10:43:08.443155Z",
     "iopub.status.busy": "2021-11-08T10:43:08.442701Z",
     "iopub.status.idle": "2021-11-08T10:43:08.444297Z",
     "shell.execute_reply": "2021-11-08T10:43:08.444636Z"
    },
    "papermill": {
     "duration": 1.002774,
     "end_time": "2021-11-08T10:43:08.444769",
     "exception": false,
     "start_time": "2021-11-08T10:43:07.441995",
     "status": "completed"
    },
    "tags": []
   },
   "outputs": [],
   "source": [
    "#!pip install lightning-flash==0.5.0"
   ]
  },
  {
   "cell_type": "code",
   "execution_count": null,
   "id": "ec9d92f1",
   "metadata": {
    "papermill": {
     "duration": 0.209647,
     "end_time": "2021-11-08T10:43:08.864197",
     "exception": false,
     "start_time": "2021-11-08T10:43:08.654550",
     "status": "completed"
    },
    "tags": []
   },
   "outputs": [],
   "source": []
  },
  {
   "cell_type": "code",
   "execution_count": null,
   "id": "5f1ad0e2",
   "metadata": {
    "papermill": {
     "duration": 0.207825,
     "end_time": "2021-11-08T10:43:09.318984",
     "exception": false,
     "start_time": "2021-11-08T10:43:09.111159",
     "status": "completed"
    },
    "tags": []
   },
   "outputs": [],
   "source": [
    "\n"
   ]
  },
  {
   "cell_type": "code",
   "execution_count": 13,
   "id": "b2878021",
   "metadata": {
    "execution": {
     "iopub.execute_input": "2021-11-08T10:43:09.739582Z",
     "iopub.status.busy": "2021-11-08T10:43:09.739040Z",
     "iopub.status.idle": "2021-11-08T10:43:09.741069Z",
     "shell.execute_reply": "2021-11-08T10:43:09.740716Z"
    },
    "papermill": {
     "duration": 0.213753,
     "end_time": "2021-11-08T10:43:09.741170",
     "exception": false,
     "start_time": "2021-11-08T10:43:09.527417",
     "status": "completed"
    },
    "tags": []
   },
   "outputs": [],
   "source": [
    "# get the backbones available for ImageClassifier\n",
    "backbones = flash.image.ImageClassifier.available_backbones()\n",
    "\n",
    "# print the backbones\n",
    "#print(backbones)"
   ]
  },
  {
   "cell_type": "code",
   "execution_count": 14,
   "id": "336faee8",
   "metadata": {
    "execution": {
     "iopub.execute_input": "2021-11-08T10:43:10.161210Z",
     "iopub.status.busy": "2021-11-08T10:43:10.160752Z",
     "iopub.status.idle": "2021-11-08T10:43:10.162542Z",
     "shell.execute_reply": "2021-11-08T10:43:10.162863Z"
    },
    "papermill": {
     "duration": 0.213855,
     "end_time": "2021-11-08T10:43:10.162987",
     "exception": false,
     "start_time": "2021-11-08T10:43:09.949132",
     "status": "completed"
    },
    "tags": []
   },
   "outputs": [],
   "source": [
    "warnings.filterwarnings(\"ignore\", message=\"Default upsampling behavior when mode=bilinear is changed to align_corners=False since 0.4.0. Please specify align_corners=True if the old behavior is desired. See the documentation of nn.Upsample for details.\")"
   ]
  },
  {
   "cell_type": "code",
   "execution_count": 15,
   "id": "476f1082",
   "metadata": {
    "execution": {
     "iopub.execute_input": "2021-11-08T10:43:11.856177Z",
     "iopub.status.busy": "2021-11-08T10:43:11.855737Z",
     "iopub.status.idle": "2021-11-08T10:43:11.857424Z",
     "shell.execute_reply": "2021-11-08T10:43:11.857748Z"
    },
    "papermill": {
     "duration": 1.483891,
     "end_time": "2021-11-08T10:43:11.857878",
     "exception": false,
     "start_time": "2021-11-08T10:43:10.373987",
     "status": "completed"
    },
    "tags": []
   },
   "outputs": [],
   "source": [
    "\n",
    "# https://lp-prod-resources.s3-us-west-2.amazonaws.com/other/Deploying+a+Deep+Learning+Model+on+Web+and+Mobile+Applications+Using+TensorFlow/Food+101+-+Data+Subset.zip"
   ]
  },
  {
   "cell_type": "code",
   "execution_count": 16,
   "id": "955aaba2",
   "metadata": {
    "execution": {
     "iopub.execute_input": "2021-11-08T10:43:14.157508Z",
     "iopub.status.busy": "2021-11-08T10:43:14.157064Z",
     "iopub.status.idle": "2021-11-08T10:43:14.158960Z",
     "shell.execute_reply": "2021-11-08T10:43:14.158596Z"
    },
    "papermill": {
     "duration": 0.215331,
     "end_time": "2021-11-08T10:43:14.159064",
     "exception": false,
     "start_time": "2021-11-08T10:43:13.943733",
     "status": "completed"
    },
    "tags": []
   },
   "outputs": [],
   "source": [
    "#download_data(\"https://pl-flash-data.s3.amazonaws.com/hymenoptera_data.zip\", 'data/')\n"
   ]
  },
  {
   "cell_type": "markdown",
   "id": "8cb93a58",
   "metadata": {
    "papermill": {
     "duration": 0.207907,
     "end_time": "2021-11-08T10:43:15.366025",
     "exception": false,
     "start_time": "2021-11-08T10:43:15.158118",
     "status": "completed"
    },
    "tags": []
   },
   "source": [
    "## Prepare dataset"
   ]
  },
  {
   "cell_type": "code",
   "execution_count": 17,
   "id": "0402c6c4",
   "metadata": {
    "execution": {
     "iopub.execute_input": "2021-11-08T10:43:15.789499Z",
     "iopub.status.busy": "2021-11-08T10:43:15.789046Z",
     "iopub.status.idle": "2021-11-08T10:43:15.791060Z",
     "shell.execute_reply": "2021-11-08T10:43:15.790685Z"
    },
    "papermill": {
     "duration": 0.214295,
     "end_time": "2021-11-08T10:43:15.791161",
     "exception": false,
     "start_time": "2021-11-08T10:43:15.576866",
     "status": "completed"
    },
    "tags": []
   },
   "outputs": [],
   "source": [
    "data_dir = \"data/food-101-subset/images/\""
   ]
  },
  {
   "cell_type": "code",
   "execution_count": 18,
   "id": "7454584a",
   "metadata": {
    "execution": {
     "iopub.execute_input": "2021-11-08T10:43:16.214951Z",
     "iopub.status.busy": "2021-11-08T10:43:16.214491Z",
     "iopub.status.idle": "2021-11-08T10:43:16.216742Z",
     "shell.execute_reply": "2021-11-08T10:43:16.216374Z"
    },
    "papermill": {
     "duration": 0.214743,
     "end_time": "2021-11-08T10:43:16.216849",
     "exception": false,
     "start_time": "2021-11-08T10:43:16.002106",
     "status": "completed"
    },
    "tags": []
   },
   "outputs": [],
   "source": [
    "# files = glob.glob(f\"{data_dir}/*/*.jpg\")\n",
    "# df = pd.DataFrame({'file_path':files})\n",
    "# df['label_name'] = df['file_path'].apply(lambda x:x.split(\"/\")[-2])\n",
    "# df.head()"
   ]
  },
  {
   "cell_type": "code",
   "execution_count": 19,
   "id": "b4625728",
   "metadata": {
    "execution": {
     "iopub.execute_input": "2021-11-08T10:43:16.662119Z",
     "iopub.status.busy": "2021-11-08T10:43:16.661641Z",
     "iopub.status.idle": "2021-11-08T10:43:16.762911Z",
     "shell.execute_reply": "2021-11-08T10:43:16.763277Z"
    },
    "papermill": {
     "duration": 0.335234,
     "end_time": "2021-11-08T10:43:16.763443",
     "exception": false,
     "start_time": "2021-11-08T10:43:16.428209",
     "status": "completed"
    },
    "tags": []
   },
   "outputs": [],
   "source": [
    "df = pd.read_csv(\"data/food-101/meta/train.txt\",header=None,names=['file_path'])\n",
    "df['label_name'] = df['file_path'].apply(lambda x:x.split(\"/\")[-2])\n",
    "\n",
    "df['file_path'] = \"data/food-101/images/\" + df[\"file_path\"]+\".jpg\"\n",
    "\n",
    "\n"
   ]
  },
  {
   "cell_type": "code",
   "execution_count": 20,
   "id": "2c7c8747",
   "metadata": {
    "execution": {
     "iopub.execute_input": "2021-11-08T10:43:18.452280Z",
     "iopub.status.busy": "2021-11-08T10:43:18.449267Z",
     "iopub.status.idle": "2021-11-08T10:43:18.457223Z",
     "shell.execute_reply": "2021-11-08T10:43:18.457572Z"
    },
    "papermill": {
     "duration": 1.481225,
     "end_time": "2021-11-08T10:43:18.457706",
     "exception": false,
     "start_time": "2021-11-08T10:43:16.976481",
     "status": "completed"
    },
    "tags": []
   },
   "outputs": [
    {
     "data": {
      "text/html": [
       "<div>\n",
       "<style scoped>\n",
       "    .dataframe tbody tr th:only-of-type {\n",
       "        vertical-align: middle;\n",
       "    }\n",
       "\n",
       "    .dataframe tbody tr th {\n",
       "        vertical-align: top;\n",
       "    }\n",
       "\n",
       "    .dataframe thead th {\n",
       "        text-align: right;\n",
       "    }\n",
       "</style>\n",
       "<table border=\"1\" class=\"dataframe\">\n",
       "  <thead>\n",
       "    <tr style=\"text-align: right;\">\n",
       "      <th></th>\n",
       "      <th>file_path</th>\n",
       "      <th>label_name</th>\n",
       "    </tr>\n",
       "  </thead>\n",
       "  <tbody>\n",
       "    <tr>\n",
       "      <th>0</th>\n",
       "      <td>data/food-101/images/apple_pie/1005649.jpg</td>\n",
       "      <td>apple_pie</td>\n",
       "    </tr>\n",
       "    <tr>\n",
       "      <th>1</th>\n",
       "      <td>data/food-101/images/apple_pie/1014775.jpg</td>\n",
       "      <td>apple_pie</td>\n",
       "    </tr>\n",
       "    <tr>\n",
       "      <th>2</th>\n",
       "      <td>data/food-101/images/apple_pie/1026328.jpg</td>\n",
       "      <td>apple_pie</td>\n",
       "    </tr>\n",
       "    <tr>\n",
       "      <th>3</th>\n",
       "      <td>data/food-101/images/apple_pie/1028787.jpg</td>\n",
       "      <td>apple_pie</td>\n",
       "    </tr>\n",
       "    <tr>\n",
       "      <th>4</th>\n",
       "      <td>data/food-101/images/apple_pie/1043283.jpg</td>\n",
       "      <td>apple_pie</td>\n",
       "    </tr>\n",
       "  </tbody>\n",
       "</table>\n",
       "</div>"
      ],
      "text/plain": [
       "                                    file_path label_name\n",
       "0  data/food-101/images/apple_pie/1005649.jpg  apple_pie\n",
       "1  data/food-101/images/apple_pie/1014775.jpg  apple_pie\n",
       "2  data/food-101/images/apple_pie/1026328.jpg  apple_pie\n",
       "3  data/food-101/images/apple_pie/1028787.jpg  apple_pie\n",
       "4  data/food-101/images/apple_pie/1043283.jpg  apple_pie"
      ]
     },
     "execution_count": 20,
     "metadata": {},
     "output_type": "execute_result"
    }
   ],
   "source": [
    "df.head()"
   ]
  },
  {
   "cell_type": "code",
   "execution_count": null,
   "id": "017dcae1",
   "metadata": {
    "papermill": {
     "duration": 0.213783,
     "end_time": "2021-11-08T10:43:20.764403",
     "exception": false,
     "start_time": "2021-11-08T10:43:20.550620",
     "status": "completed"
    },
    "tags": []
   },
   "outputs": [],
   "source": []
  },
  {
   "cell_type": "code",
   "execution_count": 21,
   "id": "908c0e8b",
   "metadata": {
    "execution": {
     "iopub.execute_input": "2021-11-08T10:43:21.982953Z",
     "iopub.status.busy": "2021-11-08T10:43:21.982342Z",
     "iopub.status.idle": "2021-11-08T10:43:21.984308Z",
     "shell.execute_reply": "2021-11-08T10:43:21.984662Z"
    },
    "papermill": {
     "duration": 0.218909,
     "end_time": "2021-11-08T10:43:21.984793",
     "exception": false,
     "start_time": "2021-11-08T10:43:21.765884",
     "status": "completed"
    },
    "tags": []
   },
   "outputs": [],
   "source": [
    "label_encoder = sklearn.preprocessing.LabelEncoder()\n"
   ]
  },
  {
   "cell_type": "code",
   "execution_count": 22,
   "id": "f42c51ea",
   "metadata": {
    "execution": {
     "iopub.execute_input": "2021-11-08T10:43:22.418588Z",
     "iopub.status.busy": "2021-11-08T10:43:22.412998Z",
     "iopub.status.idle": "2021-11-08T10:43:22.420526Z",
     "shell.execute_reply": "2021-11-08T10:43:22.420842Z"
    },
    "papermill": {
     "duration": 0.226066,
     "end_time": "2021-11-08T10:43:22.420974",
     "exception": false,
     "start_time": "2021-11-08T10:43:22.194908",
     "status": "completed"
    },
    "tags": []
   },
   "outputs": [
    {
     "data": {
      "text/plain": [
       "LabelEncoder()"
      ]
     },
     "execution_count": 22,
     "metadata": {},
     "output_type": "execute_result"
    }
   ],
   "source": [
    "label_encoder.fit(df['label_name'])\n"
   ]
  },
  {
   "cell_type": "code",
   "execution_count": 23,
   "id": "4f42ac68",
   "metadata": {
    "execution": {
     "iopub.execute_input": "2021-11-08T10:43:22.860074Z",
     "iopub.status.busy": "2021-11-08T10:43:22.859607Z",
     "iopub.status.idle": "2021-11-08T10:43:22.861289Z",
     "shell.execute_reply": "2021-11-08T10:43:22.861627Z"
    },
    "papermill": {
     "duration": 0.227357,
     "end_time": "2021-11-08T10:43:22.861758",
     "exception": false,
     "start_time": "2021-11-08T10:43:22.634401",
     "status": "completed"
    },
    "tags": []
   },
   "outputs": [],
   "source": [
    "df['label'] = label_encoder.transform(df['label_name'])\n"
   ]
  },
  {
   "cell_type": "code",
   "execution_count": 24,
   "id": "f6d8a8bc",
   "metadata": {
    "execution": {
     "iopub.execute_input": "2021-11-08T10:43:23.292419Z",
     "iopub.status.busy": "2021-11-08T10:43:23.291937Z",
     "iopub.status.idle": "2021-11-08T10:43:23.328111Z",
     "shell.execute_reply": "2021-11-08T10:43:23.327729Z"
    },
    "papermill": {
     "duration": 0.253149,
     "end_time": "2021-11-08T10:43:23.328217",
     "exception": false,
     "start_time": "2021-11-08T10:43:23.075068",
     "status": "completed"
    },
    "tags": []
   },
   "outputs": [],
   "source": [
    "df_eval = pd.read_csv(\"data/food-101/meta/test.txt\",header=None,names=['file_path'])\n",
    "df_eval['label_name'] = df_eval['file_path'].apply(lambda x:x.split(\"/\")[-2])\n",
    "df_eval['file_path'] = \"data/food-101/images/\" + df_eval[\"file_path\"]+\".jpg\"\n",
    "df_eval['label'] = label_encoder.transform(df_eval['label_name'])\n"
   ]
  },
  {
   "cell_type": "code",
   "execution_count": 25,
   "id": "60e4f5ae",
   "metadata": {
    "execution": {
     "iopub.execute_input": "2021-11-08T10:43:25.022819Z",
     "iopub.status.busy": "2021-11-08T10:43:25.022301Z",
     "iopub.status.idle": "2021-11-08T10:43:25.024104Z",
     "shell.execute_reply": "2021-11-08T10:43:25.023737Z"
    },
    "papermill": {
     "duration": 1.48246,
     "end_time": "2021-11-08T10:43:25.024237",
     "exception": false,
     "start_time": "2021-11-08T10:43:23.541777",
     "status": "completed"
    },
    "tags": []
   },
   "outputs": [],
   "source": [
    "#!ls data/food-101/images"
   ]
  },
  {
   "cell_type": "code",
   "execution_count": 26,
   "id": "0545e7fb",
   "metadata": {
    "execution": {
     "iopub.execute_input": "2021-11-08T10:43:27.334014Z",
     "iopub.status.busy": "2021-11-08T10:43:27.333559Z",
     "iopub.status.idle": "2021-11-08T10:43:27.336095Z",
     "shell.execute_reply": "2021-11-08T10:43:27.335667Z"
    },
    "papermill": {
     "duration": 0.222734,
     "end_time": "2021-11-08T10:43:27.336192",
     "exception": false,
     "start_time": "2021-11-08T10:43:27.113458",
     "status": "completed"
    },
    "tags": []
   },
   "outputs": [
    {
     "data": {
      "text/html": [
       "<div>\n",
       "<style scoped>\n",
       "    .dataframe tbody tr th:only-of-type {\n",
       "        vertical-align: middle;\n",
       "    }\n",
       "\n",
       "    .dataframe tbody tr th {\n",
       "        vertical-align: top;\n",
       "    }\n",
       "\n",
       "    .dataframe thead th {\n",
       "        text-align: right;\n",
       "    }\n",
       "</style>\n",
       "<table border=\"1\" class=\"dataframe\">\n",
       "  <thead>\n",
       "    <tr style=\"text-align: right;\">\n",
       "      <th></th>\n",
       "      <th>file_path</th>\n",
       "      <th>label_name</th>\n",
       "      <th>label</th>\n",
       "    </tr>\n",
       "  </thead>\n",
       "  <tbody>\n",
       "    <tr>\n",
       "      <th>0</th>\n",
       "      <td>data/food-101/images/apple_pie/1011328.jpg</td>\n",
       "      <td>apple_pie</td>\n",
       "      <td>0</td>\n",
       "    </tr>\n",
       "    <tr>\n",
       "      <th>1</th>\n",
       "      <td>data/food-101/images/apple_pie/101251.jpg</td>\n",
       "      <td>apple_pie</td>\n",
       "      <td>0</td>\n",
       "    </tr>\n",
       "    <tr>\n",
       "      <th>2</th>\n",
       "      <td>data/food-101/images/apple_pie/1034399.jpg</td>\n",
       "      <td>apple_pie</td>\n",
       "      <td>0</td>\n",
       "    </tr>\n",
       "    <tr>\n",
       "      <th>3</th>\n",
       "      <td>data/food-101/images/apple_pie/103801.jpg</td>\n",
       "      <td>apple_pie</td>\n",
       "      <td>0</td>\n",
       "    </tr>\n",
       "    <tr>\n",
       "      <th>4</th>\n",
       "      <td>data/food-101/images/apple_pie/1038694.jpg</td>\n",
       "      <td>apple_pie</td>\n",
       "      <td>0</td>\n",
       "    </tr>\n",
       "  </tbody>\n",
       "</table>\n",
       "</div>"
      ],
      "text/plain": [
       "                                    file_path label_name  label\n",
       "0  data/food-101/images/apple_pie/1011328.jpg  apple_pie      0\n",
       "1   data/food-101/images/apple_pie/101251.jpg  apple_pie      0\n",
       "2  data/food-101/images/apple_pie/1034399.jpg  apple_pie      0\n",
       "3   data/food-101/images/apple_pie/103801.jpg  apple_pie      0\n",
       "4  data/food-101/images/apple_pie/1038694.jpg  apple_pie      0"
      ]
     },
     "execution_count": 26,
     "metadata": {},
     "output_type": "execute_result"
    }
   ],
   "source": [
    "df_eval.head()"
   ]
  },
  {
   "cell_type": "code",
   "execution_count": 27,
   "id": "4ef33c60",
   "metadata": {
    "execution": {
     "iopub.execute_input": "2021-11-08T10:43:28.560486Z",
     "iopub.status.busy": "2021-11-08T10:43:28.560003Z",
     "iopub.status.idle": "2021-11-08T10:43:28.627249Z",
     "shell.execute_reply": "2021-11-08T10:43:28.626871Z"
    },
    "papermill": {
     "duration": 0.285459,
     "end_time": "2021-11-08T10:43:28.627357",
     "exception": false,
     "start_time": "2021-11-08T10:43:28.341898",
     "status": "completed"
    },
    "tags": []
   },
   "outputs": [],
   "source": [
    "# split the dataset; 85% for training and 15 % for testing\n",
    "df_train, df_test = sklearn.model_selection.train_test_split(df, test_size=0.15, stratify=df['label'],shuffle = True) \n",
    "\n",
    "# split the training dataset: 80% for actual training and 20% for validation\n",
    "df_train, df_val = sklearn.model_selection.train_test_split(df_train, test_size=0.20, random_state=1 , stratify=df_train['label'])"
   ]
  },
  {
   "cell_type": "code",
   "execution_count": 28,
   "id": "de2bb0e6",
   "metadata": {
    "execution": {
     "iopub.execute_input": "2021-11-08T10:43:29.059758Z",
     "iopub.status.busy": "2021-11-08T10:43:29.059209Z",
     "iopub.status.idle": "2021-11-08T10:43:29.061512Z",
     "shell.execute_reply": "2021-11-08T10:43:29.061909Z"
    },
    "papermill": {
     "duration": 0.221845,
     "end_time": "2021-11-08T10:43:29.062054",
     "exception": false,
     "start_time": "2021-11-08T10:43:28.840209",
     "status": "completed"
    },
    "tags": []
   },
   "outputs": [
    {
     "name": "stdout",
     "output_type": "stream",
     "text": [
      "{'train': 51509, 'test': 11363, 'val': 12878, 'eval': 25250}\n"
     ]
    }
   ],
   "source": [
    "print ({\"train\": len(df_train), \"test\":len(df_test), \"val\":len(df_val) ,\"eval\": len(df_eval)  })"
   ]
  },
  {
   "cell_type": "code",
   "execution_count": 29,
   "id": "147135b3",
   "metadata": {
    "execution": {
     "iopub.execute_input": "2021-11-08T10:43:29.501995Z",
     "iopub.status.busy": "2021-11-08T10:43:29.501528Z",
     "iopub.status.idle": "2021-11-08T10:43:29.511227Z",
     "shell.execute_reply": "2021-11-08T10:43:29.510807Z"
    },
    "papermill": {
     "duration": 0.22967,
     "end_time": "2021-11-08T10:43:29.511355",
     "exception": false,
     "start_time": "2021-11-08T10:43:29.281685",
     "status": "completed"
    },
    "tags": []
   },
   "outputs": [
    {
     "data": {
      "text/plain": [
       "{'to_tensor_transform': Sequential(\n",
       "   (0): ApplyToKeys(keys=<DefaultDataKeys.INPUT: 'input'>, transform=FuncModule())\n",
       "   (1): ApplyToKeys(keys=<DefaultDataKeys.TARGET: 'target'>, transform=FuncModule())\n",
       " ),\n",
       " 'post_tensor_transform': ApplyToKeys(keys=<DefaultDataKeys.INPUT: 'input'>, transform=Resize()),\n",
       " 'collate': <function flash.core.data.transforms.kornia_collate(samples: Sequence[Dict[str, Any]]) -> Dict[str, Any]>,\n",
       " 'per_batch_transform_on_device': ApplyToKeys(keys=<DefaultDataKeys.INPUT: 'input'>, transform=Normalize(mean=tensor([0.4850, 0.4560, 0.4060]), std=tensor([0.2290, 0.2240, 0.2250]), p=1.0, p_batch=1.0, same_on_batch=True, return_transform=False))}"
      ]
     },
     "execution_count": 29,
     "metadata": {},
     "output_type": "execute_result"
    }
   ],
   "source": [
    "default_transforms = flash.image.classification.transforms.default_transforms((224, 224))\n",
    "default_transforms"
   ]
  },
  {
   "cell_type": "code",
   "execution_count": 30,
   "id": "be086643",
   "metadata": {
    "execution": {
     "iopub.execute_input": "2021-11-08T10:43:29.955352Z",
     "iopub.status.busy": "2021-11-08T10:43:29.954842Z",
     "iopub.status.idle": "2021-11-08T10:43:29.957015Z",
     "shell.execute_reply": "2021-11-08T10:43:29.956595Z"
    },
    "papermill": {
     "duration": 0.225256,
     "end_time": "2021-11-08T10:43:29.957119",
     "exception": false,
     "start_time": "2021-11-08T10:43:29.731863",
     "status": "completed"
    },
    "tags": []
   },
   "outputs": [],
   "source": [
    "post_tensor_transform = ApplyToKeys(\n",
    "    DefaultDataKeys.INPUT,\n",
    "    T.Compose([T.RandomHorizontalFlip(), T.ColorJitter(), T.RandomAutocontrast(), T.RandomPerspective()]),\n",
    ")\n",
    "\n",
    "new_transforms = merge_transforms(default_transforms, {\"post_tensor_transform\": post_tensor_transform})"
   ]
  },
  {
   "cell_type": "code",
   "execution_count": 31,
   "id": "05a3b667",
   "metadata": {
    "execution": {
     "iopub.execute_input": "2021-11-08T10:43:31.704460Z",
     "iopub.status.busy": "2021-11-08T10:43:31.703663Z",
     "iopub.status.idle": "2021-11-08T10:43:31.705868Z",
     "shell.execute_reply": "2021-11-08T10:43:31.705495Z"
    },
    "papermill": {
     "duration": 1.512556,
     "end_time": "2021-11-08T10:43:31.705978",
     "exception": false,
     "start_time": "2021-11-08T10:43:30.193422",
     "status": "completed"
    },
    "tags": []
   },
   "outputs": [],
   "source": [
    "# datamodule = ImageClassificationData.from_data_frame(\n",
    "#     \"file_path\",\n",
    "#     \"label\",\n",
    "#     train_data_frame=df_train,\n",
    "#     val_data_frame=df_val,\n",
    "#     test_data_frame=df_test,\n",
    "#     train_transform=new_transforms\n",
    "# )"
   ]
  },
  {
   "cell_type": "code",
   "execution_count": null,
   "id": "db2c771c",
   "metadata": {
    "papermill": {
     "duration": 1.011035,
     "end_time": "2021-11-08T10:43:34.804503",
     "exception": false,
     "start_time": "2021-11-08T10:43:33.793468",
     "status": "completed"
    },
    "tags": []
   },
   "outputs": [],
   "source": []
  },
  {
   "cell_type": "code",
   "execution_count": 32,
   "id": "2c3070fb",
   "metadata": {
    "execution": {
     "iopub.execute_input": "2021-11-08T10:43:35.247466Z",
     "iopub.status.busy": "2021-11-08T10:43:35.246831Z",
     "iopub.status.idle": "2021-11-08T10:43:35.249408Z",
     "shell.execute_reply": "2021-11-08T10:43:35.249743Z"
    },
    "papermill": {
     "duration": 0.228654,
     "end_time": "2021-11-08T10:43:35.249879",
     "exception": false,
     "start_time": "2021-11-08T10:43:35.021225",
     "status": "completed"
    },
    "tags": []
   },
   "outputs": [],
   "source": [
    "fo.delete_non_persistent_datasets()"
   ]
  },
  {
   "cell_type": "code",
   "execution_count": 33,
   "id": "06baf4b2",
   "metadata": {
    "execution": {
     "iopub.execute_input": "2021-11-08T10:43:35.691697Z",
     "iopub.status.busy": "2021-11-08T10:43:35.690886Z",
     "iopub.status.idle": "2021-11-08T10:45:40.544828Z",
     "shell.execute_reply": "2021-11-08T10:45:40.544238Z"
    },
    "papermill": {
     "duration": 125.075719,
     "end_time": "2021-11-08T10:45:40.545013",
     "exception": false,
     "start_time": "2021-11-08T10:43:35.469294",
     "status": "completed"
    },
    "tags": []
   },
   "outputs": [
    {
     "name": "stdout",
     "output_type": "stream",
     "text": [
      " 100% |█████████████| 51509/51509 [40.4s elapsed, 0s remaining, 1.5K samples/s]      \n",
      " 100% |█████████████| 12878/12878 [10.2s elapsed, 0s remaining, 1.3K samples/s]     \n",
      " 100% |█████████████| 11363/11363 [8.8s elapsed, 0s remaining, 1.8K samples/s]      \n",
      " 100% |█████████████| 25250/25250 [21.1s elapsed, 0s remaining, 971.8 samples/s]      \n"
     ]
    }
   ],
   "source": [
    "train_dataset = create_fiftyone_dataset (df_train,\"train\")\n",
    "val_dataset = create_fiftyone_dataset (df_val,\"validation\") \n",
    "test_dataset = create_fiftyone_dataset (df_test,\"test\")\n",
    "eval_dataset = create_fiftyone_dataset (df_eval,\"eval\")\n",
    "\n",
    "\n"
   ]
  },
  {
   "cell_type": "code",
   "execution_count": 34,
   "id": "147d8346",
   "metadata": {
    "execution": {
     "iopub.execute_input": "2021-11-08T10:45:41.471522Z",
     "iopub.status.busy": "2021-11-08T10:45:41.471045Z",
     "iopub.status.idle": "2021-11-08T10:45:45.762734Z",
     "shell.execute_reply": "2021-11-08T10:45:45.762069Z"
    },
    "papermill": {
     "duration": 4.746527,
     "end_time": "2021-11-08T10:45:45.762914",
     "exception": false,
     "start_time": "2021-11-08T10:45:41.016387",
     "status": "completed"
    },
    "tags": []
   },
   "outputs": [],
   "source": [
    "datamodule = flash.image.ImageClassificationData.from_fiftyone(\n",
    "    train_dataset=train_dataset,\n",
    "    val_dataset=val_dataset,\n",
    "    test_dataset=test_dataset,\n",
    "    train_transform=new_transforms,\n",
    ")"
   ]
  },
  {
   "cell_type": "code",
   "execution_count": null,
   "id": "ec61319c",
   "metadata": {
    "papermill": {
     "duration": 0.449125,
     "end_time": "2021-11-08T10:45:47.479404",
     "exception": false,
     "start_time": "2021-11-08T10:45:47.030279",
     "status": "completed"
    },
    "tags": []
   },
   "outputs": [],
   "source": []
  },
  {
   "cell_type": "code",
   "execution_count": 35,
   "id": "633c5a57",
   "metadata": {
    "execution": {
     "iopub.execute_input": "2021-11-08T10:45:48.378292Z",
     "iopub.status.busy": "2021-11-08T10:45:48.377834Z",
     "iopub.status.idle": "2021-11-08T10:45:48.482824Z",
     "shell.execute_reply": "2021-11-08T10:45:48.483153Z"
    },
    "papermill": {
     "duration": 0.555662,
     "end_time": "2021-11-08T10:45:48.483291",
     "exception": false,
     "start_time": "2021-11-08T10:45:47.927629",
     "status": "completed"
    },
    "tags": []
   },
   "outputs": [
    {
     "data": {
      "text/plain": [
       "Name:        train\n",
       "Media type:  image\n",
       "Num samples: 51509\n",
       "Persistent:  False\n",
       "Tags:        []\n",
       "Sample fields:\n",
       "    id:           fiftyone.core.fields.ObjectIdField\n",
       "    filepath:     fiftyone.core.fields.StringField\n",
       "    tags:         fiftyone.core.fields.ListField(fiftyone.core.fields.StringField)\n",
       "    metadata:     fiftyone.core.fields.EmbeddedDocumentField(fiftyone.core.metadata.Metadata)\n",
       "    ground_truth: fiftyone.core.fields.EmbeddedDocumentField(fiftyone.core.labels.Classification)"
      ]
     },
     "execution_count": 35,
     "metadata": {},
     "output_type": "execute_result"
    }
   ],
   "source": [
    "train_dataset"
   ]
  },
  {
   "cell_type": "code",
   "execution_count": 36,
   "id": "6e5d2a79",
   "metadata": {
    "execution": {
     "iopub.execute_input": "2021-11-08T10:45:52.506248Z",
     "iopub.status.busy": "2021-11-08T10:45:52.505751Z",
     "iopub.status.idle": "2021-11-08T10:45:52.507743Z",
     "shell.execute_reply": "2021-11-08T10:45:52.508109Z"
    },
    "papermill": {
     "duration": 2.318582,
     "end_time": "2021-11-08T10:45:52.508237",
     "exception": false,
     "start_time": "2021-11-08T10:45:50.189655",
     "status": "completed"
    },
    "tags": []
   },
   "outputs": [
    {
     "data": {
      "text/plain": [
       "101"
      ]
     },
     "execution_count": 36,
     "metadata": {},
     "output_type": "execute_result"
    }
   ],
   "source": [
    "datamodule.num_classes\n"
   ]
  },
  {
   "cell_type": "markdown",
   "id": "3dcc7793",
   "metadata": {
    "papermill": {
     "duration": 0.444005,
     "end_time": "2021-11-08T10:45:54.183849",
     "exception": false,
     "start_time": "2021-11-08T10:45:53.739844",
     "status": "completed"
    },
    "tags": []
   },
   "source": [
    "## Model"
   ]
  },
  {
   "cell_type": "code",
   "execution_count": 37,
   "id": "349516ce",
   "metadata": {
    "execution": {
     "iopub.execute_input": "2021-11-08T10:45:55.078456Z",
     "iopub.status.busy": "2021-11-08T10:45:55.077928Z",
     "iopub.status.idle": "2021-11-08T10:45:55.079597Z",
     "shell.execute_reply": "2021-11-08T10:45:55.079931Z"
    },
    "papermill": {
     "duration": 0.450098,
     "end_time": "2021-11-08T10:45:55.080060",
     "exception": false,
     "start_time": "2021-11-08T10:45:54.629962",
     "status": "completed"
    },
    "tags": []
   },
   "outputs": [],
   "source": [
    "model_metrics = {}"
   ]
  },
  {
   "cell_type": "code",
   "execution_count": 38,
   "id": "c2308c1e",
   "metadata": {
    "execution": {
     "iopub.execute_input": "2021-11-08T10:45:59.052726Z",
     "iopub.status.busy": "2021-11-08T10:45:59.052156Z",
     "iopub.status.idle": "2021-11-08T10:45:59.053866Z",
     "shell.execute_reply": "2021-11-08T10:45:59.054240Z"
    },
    "papermill": {
     "duration": 2.25644,
     "end_time": "2021-11-08T10:45:59.054371",
     "exception": false,
     "start_time": "2021-11-08T10:45:56.797931",
     "status": "completed"
    },
    "tags": []
   },
   "outputs": [],
   "source": [
    "sample_image = \"data/food-101-subset/images/apple_pie/1005649.jpg\"\n",
    "strategy=\"dp\"\n"
   ]
  },
  {
   "cell_type": "code",
   "execution_count": 39,
   "id": "8f0331f8",
   "metadata": {
    "execution": {
     "iopub.execute_input": "2021-11-08T10:46:00.726533Z",
     "iopub.status.busy": "2021-11-08T10:46:00.726098Z",
     "iopub.status.idle": "2021-11-08T10:46:00.727881Z",
     "shell.execute_reply": "2021-11-08T10:46:00.727544Z"
    },
    "papermill": {
     "duration": 0.445794,
     "end_time": "2021-11-08T10:46:00.727995",
     "exception": false,
     "start_time": "2021-11-08T10:46:00.282201",
     "status": "completed"
    },
    "tags": []
   },
   "outputs": [],
   "source": [
    "sample_input_size = (1, 3, 224, 224)\n"
   ]
  },
  {
   "cell_type": "code",
   "execution_count": 40,
   "id": "a7c89dd8",
   "metadata": {
    "execution": {
     "iopub.execute_input": "2021-11-08T10:46:01.621897Z",
     "iopub.status.busy": "2021-11-08T10:46:01.621463Z",
     "iopub.status.idle": "2021-11-08T10:46:01.623071Z",
     "shell.execute_reply": "2021-11-08T10:46:01.623390Z"
    },
    "papermill": {
     "duration": 0.449403,
     "end_time": "2021-11-08T10:46:01.623513",
     "exception": false,
     "start_time": "2021-11-08T10:46:01.174110",
     "status": "completed"
    },
    "tags": []
   },
   "outputs": [],
   "source": [
    "def time_inference(model,device='cpu'):\n",
    "    model = model.eval()\n",
    "\n",
    "    with torch.no_grad():\n",
    "        model.to(device)\n",
    "        predictions = model.predict(sample_image)\n"
   ]
  },
  {
   "cell_type": "code",
   "execution_count": 41,
   "id": "83c68e74",
   "metadata": {
    "execution": {
     "iopub.execute_input": "2021-11-08T10:46:05.652100Z",
     "iopub.status.busy": "2021-11-08T10:46:05.651628Z",
     "iopub.status.idle": "2021-11-08T10:46:05.653139Z",
     "shell.execute_reply": "2021-11-08T10:46:05.653462Z"
    },
    "papermill": {
     "duration": 2.332676,
     "end_time": "2021-11-08T10:46:05.653583",
     "exception": false,
     "start_time": "2021-11-08T10:46:03.320907",
     "status": "completed"
    },
    "tags": []
   },
   "outputs": [],
   "source": [
    "def train_model(model_name:str, epochs = 2, unfreeze_epoch = 5 ,num_iterations=10, df_eval=df_eval  ):\n",
    "    model = flash.image.ImageClassifier(num_classes=datamodule.num_classes,backbone=model_name)\n",
    "    print (f\"Model Spec: {model_name}\")\n",
    "    print(model)\n",
    "    \n",
    "    \n",
    "    \n",
    "    print (\"Model Summary\")\n",
    "    \n",
    "    model_summary = torchinfo.summary(model, input_size=sample_input_size, verbose=0)\n",
    "    print (model_summary)\n",
    "    \n",
    "    \n",
    "    \n",
    "            \n",
    "    \n",
    "    trainer = flash.Trainer(max_epochs=epochs, gpus=torch.cuda.device_count() , strategy=strategy)\n",
    "\n",
    "    \n",
    "    \n",
    "    trainer.finetune(model, datamodule=datamodule\n",
    "                 , strategy=flash.core.finetuning.FreezeUnfreeze(unfreeze_epoch=unfreeze_epoch) )\n",
    "    \n",
    "    \n",
    "    metrics_test = trainer.test(model, datamodule=datamodule)\n",
    "    print (metrics_test)\n",
    "\n",
    "    \n",
    "    metrics_val =trainer.validate(model, datamodule=datamodule)\n",
    "    print(metrics_val)\n",
    "    \n",
    "    artifact_model_path = f\"artifacts/model_{model_name}.pt\"\n",
    "    trainer.save_checkpoint(artifact_model_path)\n",
    "\n",
    "    model = flash.image.ImageClassifier.load_from_checkpoint(artifact_model_path)\n",
    "    \n",
    "    time_gpu = timeit.timeit(lambda: time_inference (model,device='cuda:0') ,number=num_iterations   ) \n",
    "    time_cpu = timeit.timeit(lambda: time_inference (model,device='cpu') ,number=num_iterations   ) \n",
    "    \n",
    "    \n",
    "    # eval dataset accuracy\n",
    "    eval_dataset = create_fiftyone_dataset (df_eval,\"eval\")\n",
    "    datamodule_eval = flash.image.ImageClassificationData.from_fiftyone(predict_dataset=eval_dataset)\n",
    "    predictions = trainer.predict(model, datamodule=datamodule_eval) # datamodule_predict\n",
    "    predictions = list(itertools.chain.from_iterable(predictions))  # flatten batches\n",
    "    y_proba = predictions\n",
    "    y_pred = np.argmax(y_proba, axis=1)\n",
    "    y_true = df_test['label']\n",
    "\n",
    "    eval_accuracy = sklearn.metrics.accuracy_score(y_true, y_pred)\n",
    "    \n",
    "    \n",
    "    \n",
    "    res = {**metrics_test[0], **metrics_val[0]}\n",
    "    res['time_cpu'] = time_cpu\n",
    "    res['time_gpu'] = time_gpu\n",
    "    res['eval_accuracy'] = eval_accuracy\n",
    "    \n",
    "    res['params_total'] = model_summary.total_params\n",
    "    res['params_trainable'] = model_summary.trainable_params\n",
    "    \n",
    "\n",
    "\n",
    "    model_metrics[model_name] = res\n",
    "    \n",
    "    \n",
    "    \n",
    "\n",
    "    return model\n",
    "    \n",
    "    "
   ]
  },
  {
   "cell_type": "code",
   "execution_count": 42,
   "id": "cc774545",
   "metadata": {
    "execution": {
     "iopub.execute_input": "2021-11-08T10:46:07.336749Z",
     "iopub.status.busy": "2021-11-08T10:46:07.336302Z",
     "iopub.status.idle": "2021-11-08T10:46:07.337861Z",
     "shell.execute_reply": "2021-11-08T10:46:07.338215Z"
    },
    "papermill": {
     "duration": 0.447028,
     "end_time": "2021-11-08T10:46:07.338338",
     "exception": false,
     "start_time": "2021-11-08T10:46:06.891310",
     "status": "completed"
    },
    "tags": []
   },
   "outputs": [],
   "source": [
    "max_epochs = 15\n",
    "unfreeze_epoch = 5"
   ]
  },
  {
   "cell_type": "code",
   "execution_count": 43,
   "id": "76ac7551",
   "metadata": {
    "execution": {
     "iopub.execute_input": "2021-11-08T10:46:12.313442Z",
     "iopub.status.busy": "2021-11-08T10:46:12.312617Z",
     "iopub.status.idle": "2021-11-08T10:46:12.317353Z",
     "shell.execute_reply": "2021-11-08T10:46:12.317696Z"
    },
    "papermill": {
     "duration": 4.536419,
     "end_time": "2021-11-08T10:46:12.317844",
     "exception": false,
     "start_time": "2021-11-08T10:46:07.781425",
     "status": "completed"
    },
    "tags": []
   },
   "outputs": [
    {
     "name": "stderr",
     "output_type": "stream",
     "text": [
      "GPU available: True, used: True\n",
      "TPU available: False, using: 0 TPU cores\n",
      "IPU available: False, using: 0 IPUs\n"
     ]
    }
   ],
   "source": [
    "trainer = flash.Trainer(max_epochs=max_epochs, gpus=torch.cuda.device_count(), strategy=strategy  )"
   ]
  },
  {
   "cell_type": "code",
   "execution_count": 44,
   "id": "ee320e57",
   "metadata": {
    "execution": {
     "iopub.execute_input": "2021-11-08T10:46:13.219263Z",
     "iopub.status.busy": "2021-11-08T10:46:13.218451Z"
    },
    "papermill": {
     "duration": null,
     "end_time": null,
     "exception": false,
     "start_time": "2021-11-08T10:46:12.764822",
     "status": "running"
    },
    "tags": []
   },
   "outputs": [
    {
     "name": "stderr",
     "output_type": "stream",
     "text": [
      "Using 'vgg19' provided by PyTorch/torchvision (https://github.com/pytorch/vision).\n"
     ]
    },
    {
     "name": "stdout",
     "output_type": "stream",
     "text": [
      "Model Spec: vgg19\n",
      "ImageClassifier(\n",
      "  (train_metrics): ModuleDict(\n",
      "    (accuracy): Accuracy()\n",
      "  )\n",
      "  (val_metrics): ModuleDict(\n",
      "    (accuracy): Accuracy()\n",
      "  )\n",
      "  (test_metrics): ModuleDict(\n",
      "    (accuracy): Accuracy()\n",
      "  )\n",
      "  (adapter): DefaultAdapter(\n",
      "    (backbone): Sequential(\n",
      "      (0): Conv2d(3, 64, kernel_size=(3, 3), stride=(1, 1), padding=(1, 1))\n",
      "      (1): ReLU(inplace=True)\n",
      "      (2): Conv2d(64, 64, kernel_size=(3, 3), stride=(1, 1), padding=(1, 1))\n",
      "      (3): ReLU(inplace=True)\n",
      "      (4): MaxPool2d(kernel_size=2, stride=2, padding=0, dilation=1, ceil_mode=False)\n",
      "      (5): Conv2d(64, 128, kernel_size=(3, 3), stride=(1, 1), padding=(1, 1))\n",
      "      (6): ReLU(inplace=True)\n",
      "      (7): Conv2d(128, 128, kernel_size=(3, 3), stride=(1, 1), padding=(1, 1))\n",
      "      (8): ReLU(inplace=True)\n",
      "      (9): MaxPool2d(kernel_size=2, stride=2, padding=0, dilation=1, ceil_mode=False)\n",
      "      (10): Conv2d(128, 256, kernel_size=(3, 3), stride=(1, 1), padding=(1, 1))\n",
      "      (11): ReLU(inplace=True)\n",
      "      (12): Conv2d(256, 256, kernel_size=(3, 3), stride=(1, 1), padding=(1, 1))\n",
      "      (13): ReLU(inplace=True)\n",
      "      (14): Conv2d(256, 256, kernel_size=(3, 3), stride=(1, 1), padding=(1, 1))\n",
      "      (15): ReLU(inplace=True)\n",
      "      (16): Conv2d(256, 256, kernel_size=(3, 3), stride=(1, 1), padding=(1, 1))\n",
      "      (17): ReLU(inplace=True)\n",
      "      (18): MaxPool2d(kernel_size=2, stride=2, padding=0, dilation=1, ceil_mode=False)\n",
      "      (19): Conv2d(256, 512, kernel_size=(3, 3), stride=(1, 1), padding=(1, 1))\n",
      "      (20): ReLU(inplace=True)\n",
      "      (21): Conv2d(512, 512, kernel_size=(3, 3), stride=(1, 1), padding=(1, 1))\n",
      "      (22): ReLU(inplace=True)\n",
      "      (23): Conv2d(512, 512, kernel_size=(3, 3), stride=(1, 1), padding=(1, 1))\n",
      "      (24): ReLU(inplace=True)\n",
      "      (25): Conv2d(512, 512, kernel_size=(3, 3), stride=(1, 1), padding=(1, 1))\n",
      "      (26): ReLU(inplace=True)\n",
      "      (27): MaxPool2d(kernel_size=2, stride=2, padding=0, dilation=1, ceil_mode=False)\n",
      "      (28): Conv2d(512, 512, kernel_size=(3, 3), stride=(1, 1), padding=(1, 1))\n",
      "      (29): ReLU(inplace=True)\n",
      "      (30): Conv2d(512, 512, kernel_size=(3, 3), stride=(1, 1), padding=(1, 1))\n",
      "      (31): ReLU(inplace=True)\n",
      "      (32): Conv2d(512, 512, kernel_size=(3, 3), stride=(1, 1), padding=(1, 1))\n",
      "      (33): ReLU(inplace=True)\n",
      "      (34): Conv2d(512, 512, kernel_size=(3, 3), stride=(1, 1), padding=(1, 1))\n",
      "      (35): ReLU(inplace=True)\n",
      "      (36): MaxPool2d(kernel_size=2, stride=2, padding=0, dilation=1, ceil_mode=False)\n",
      "    )\n",
      "    (head): Sequential(\n",
      "      (0): Linear(in_features=512, out_features=101, bias=True)\n",
      "    )\n",
      "  )\n",
      ")\n",
      "Model Summary\n"
     ]
    },
    {
     "name": "stderr",
     "output_type": "stream",
     "text": [
      "GPU available: True, used: True\n",
      "TPU available: False, using: 0 TPU cores\n",
      "IPU available: False, using: 0 IPUs\n",
      "/opt/conda/envs/pytorch/envs/pytorch/lib/python3.7/site-packages/pytorch_lightning/trainer/configuration_validator.py:91: LightningDeprecationWarning: Method `on_train_dataloader` is deprecated in v1.5.0 and will be removed in v1.7.0. Please use `train_dataloader()` directly.\n",
      "  \"Method `on_train_dataloader` is deprecated in v1.5.0 and will be removed in v1.7.0.\"\n",
      "/opt/conda/envs/pytorch/envs/pytorch/lib/python3.7/site-packages/pytorch_lightning/trainer/configuration_validator.py:126: LightningDeprecationWarning: Method `on_val_dataloader` is deprecated in v1.5.0 and will be removed in v1.7.0. Please use `val_dataloader()` directly.\n",
      "  \"Method `on_val_dataloader` is deprecated in v1.5.0 and will be removed in v1.7.0.\"\n",
      "LOCAL_RANK: 0 - CUDA_VISIBLE_DEVICES: [0]\n",
      "\n",
      "  | Name          | Type           | Params\n",
      "-------------------------------------------------\n",
      "0 | train_metrics | ModuleDict     | 0     \n",
      "1 | val_metrics   | ModuleDict     | 0     \n",
      "2 | test_metrics  | ModuleDict     | 0     \n",
      "3 | adapter       | DefaultAdapter | 20.1 M\n",
      "-------------------------------------------------\n",
      "51.8 K    Trainable params\n",
      "20.0 M    Non-trainable params\n",
      "20.1 M    Total params\n",
      "80.305    Total estimated model params size (MB)\n"
     ]
    },
    {
     "name": "stdout",
     "output_type": "stream",
     "text": [
      "==========================================================================================\n",
      "Layer (type:depth-idx)                   Output Shape              Param #\n",
      "==========================================================================================\n",
      "ImageClassifier                          --                        --\n",
      "├─DefaultAdapter: 1                      --                        --\n",
      "│    └─Sequential: 2-1                   [1, 512, 7, 7]            --\n",
      "│    │    └─Conv2d: 3-1                  [1, 64, 224, 224]         1,792\n",
      "│    │    └─ReLU: 3-2                    [1, 64, 224, 224]         --\n",
      "│    │    └─Conv2d: 3-3                  [1, 64, 224, 224]         36,928\n",
      "│    │    └─ReLU: 3-4                    [1, 64, 224, 224]         --\n",
      "│    │    └─MaxPool2d: 3-5               [1, 64, 112, 112]         --\n",
      "│    │    └─Conv2d: 3-6                  [1, 128, 112, 112]        73,856\n",
      "│    │    └─ReLU: 3-7                    [1, 128, 112, 112]        --\n",
      "│    │    └─Conv2d: 3-8                  [1, 128, 112, 112]        147,584\n",
      "│    │    └─ReLU: 3-9                    [1, 128, 112, 112]        --\n",
      "│    │    └─MaxPool2d: 3-10              [1, 128, 56, 56]          --\n",
      "│    │    └─Conv2d: 3-11                 [1, 256, 56, 56]          295,168\n",
      "│    │    └─ReLU: 3-12                   [1, 256, 56, 56]          --\n",
      "│    │    └─Conv2d: 3-13                 [1, 256, 56, 56]          590,080\n",
      "│    │    └─ReLU: 3-14                   [1, 256, 56, 56]          --\n",
      "│    │    └─Conv2d: 3-15                 [1, 256, 56, 56]          590,080\n",
      "│    │    └─ReLU: 3-16                   [1, 256, 56, 56]          --\n",
      "│    │    └─Conv2d: 3-17                 [1, 256, 56, 56]          590,080\n",
      "│    │    └─ReLU: 3-18                   [1, 256, 56, 56]          --\n",
      "│    │    └─MaxPool2d: 3-19              [1, 256, 28, 28]          --\n",
      "│    │    └─Conv2d: 3-20                 [1, 512, 28, 28]          1,180,160\n",
      "│    │    └─ReLU: 3-21                   [1, 512, 28, 28]          --\n",
      "│    │    └─Conv2d: 3-22                 [1, 512, 28, 28]          2,359,808\n",
      "│    │    └─ReLU: 3-23                   [1, 512, 28, 28]          --\n",
      "│    │    └─Conv2d: 3-24                 [1, 512, 28, 28]          2,359,808\n",
      "│    │    └─ReLU: 3-25                   [1, 512, 28, 28]          --\n",
      "│    │    └─Conv2d: 3-26                 [1, 512, 28, 28]          2,359,808\n",
      "│    │    └─ReLU: 3-27                   [1, 512, 28, 28]          --\n",
      "│    │    └─MaxPool2d: 3-28              [1, 512, 14, 14]          --\n",
      "│    │    └─Conv2d: 3-29                 [1, 512, 14, 14]          2,359,808\n",
      "│    │    └─ReLU: 3-30                   [1, 512, 14, 14]          --\n",
      "│    │    └─Conv2d: 3-31                 [1, 512, 14, 14]          2,359,808\n",
      "│    │    └─ReLU: 3-32                   [1, 512, 14, 14]          --\n",
      "│    │    └─Conv2d: 3-33                 [1, 512, 14, 14]          2,359,808\n",
      "│    │    └─ReLU: 3-34                   [1, 512, 14, 14]          --\n",
      "│    │    └─Conv2d: 3-35                 [1, 512, 14, 14]          2,359,808\n",
      "│    │    └─ReLU: 3-36                   [1, 512, 14, 14]          --\n",
      "│    │    └─MaxPool2d: 3-37              [1, 512, 7, 7]            --\n",
      "│    └─Sequential: 2-2                   [1, 101]                  --\n",
      "│    │    └─Linear: 3-38                 [1, 101]                  51,813\n",
      "==========================================================================================\n",
      "Total params: 20,076,197\n",
      "Trainable params: 20,076,197\n",
      "Non-trainable params: 0\n",
      "Total mult-adds (G): 19.52\n",
      "==========================================================================================\n",
      "Input size (MB): 0.60\n",
      "Forward/backward pass size (MB): 118.82\n",
      "Params size (MB): 80.30\n",
      "Estimated Total Size (MB): 199.72\n",
      "==========================================================================================\n"
     ]
    },
    {
     "data": {
      "application/vnd.jupyter.widget-view+json": {
       "model_id": "9cd107fca8bd4fe9867494298477e6d7",
       "version_major": 2,
       "version_minor": 0
      },
      "text/plain": [
       "Validation sanity check: 0it [00:00, ?it/s]"
      ]
     },
     "metadata": {},
     "output_type": "display_data"
    },
    {
     "name": "stderr",
     "output_type": "stream",
     "text": [
      "/opt/conda/envs/pytorch/envs/pytorch/lib/python3.7/site-packages/pytorch_lightning/trainer/data_loading.py:111: UserWarning: The dataloader, val_dataloader 0, does not have many workers which may be a bottleneck. Consider increasing the value of the `num_workers` argument` (try 16 which is the number of cpus on this machine) in the `DataLoader` init to improve performance.\n",
      "  f\"The dataloader, {name}, does not have many workers which may be a bottleneck.\"\n",
      "/opt/conda/envs/pytorch/envs/pytorch/lib/python3.7/site-packages/pytorch_lightning/utilities/data.py:57: UserWarning: Trying to infer the `batch_size` from an ambiguous collection. The batch size we found is 4. To avoid any miscalculations, use `self.log(..., batch_size=batch_size)`.\n",
      "  \"Trying to infer the `batch_size` from an ambiguous collection. The batch size we\"\n",
      "Global seed set to 99\n",
      "/opt/conda/envs/pytorch/envs/pytorch/lib/python3.7/site-packages/pytorch_lightning/trainer/data_loading.py:111: UserWarning: The dataloader, train_dataloader, does not have many workers which may be a bottleneck. Consider increasing the value of the `num_workers` argument` (try 16 which is the number of cpus on this machine) in the `DataLoader` init to improve performance.\n",
      "  f\"The dataloader, {name}, does not have many workers which may be a bottleneck.\"\n"
     ]
    },
    {
     "data": {
      "application/vnd.jupyter.widget-view+json": {
       "model_id": "27a84c9574f94de98b4675430aff1538",
       "version_major": 2,
       "version_minor": 0
      },
      "text/plain": [
       "Training: 0it [00:00, ?it/s]"
      ]
     },
     "metadata": {},
     "output_type": "display_data"
    }
   ],
   "source": [
    "model_name = 'vgg19'\n",
    "model = train_model(model_name=model_name, epochs = max_epochs, unfreeze_epoch = unfreeze_epoch)\n"
   ]
  },
  {
   "cell_type": "code",
   "execution_count": null,
   "id": "499ebf0f",
   "metadata": {
    "papermill": {
     "duration": null,
     "end_time": null,
     "exception": null,
     "start_time": null,
     "status": "pending"
    },
    "tags": []
   },
   "outputs": [],
   "source": [
    "train_model(model_name='resnet50', epochs = max_epochs, unfreeze_epoch = unfreeze_epoch)"
   ]
  },
  {
   "cell_type": "code",
   "execution_count": null,
   "id": "85bfac2e",
   "metadata": {
    "papermill": {
     "duration": null,
     "end_time": null,
     "exception": null,
     "start_time": null,
     "status": "pending"
    },
    "tags": []
   },
   "outputs": [],
   "source": [
    "train_model(model_name='mobilenet_v2', epochs = max_epochs, unfreeze_epoch = unfreeze_epoch)"
   ]
  },
  {
   "cell_type": "code",
   "execution_count": null,
   "id": "35737d94",
   "metadata": {
    "papermill": {
     "duration": null,
     "end_time": null,
     "exception": null,
     "start_time": null,
     "status": "pending"
    },
    "tags": []
   },
   "outputs": [],
   "source": [
    "train_model(model_name='mobilenetv3_small_100', epochs = max_epochs, unfreeze_epoch = unfreeze_epoch)"
   ]
  },
  {
   "cell_type": "code",
   "execution_count": null,
   "id": "5bbd2ea7",
   "metadata": {
    "papermill": {
     "duration": null,
     "end_time": null,
     "exception": null,
     "start_time": null,
     "status": "pending"
    },
    "tags": []
   },
   "outputs": [],
   "source": []
  },
  {
   "cell_type": "code",
   "execution_count": null,
   "id": "2f6bd204",
   "metadata": {
    "papermill": {
     "duration": null,
     "end_time": null,
     "exception": null,
     "start_time": null,
     "status": "pending"
    },
    "tags": []
   },
   "outputs": [],
   "source": [
    "model_metrics"
   ]
  },
  {
   "cell_type": "code",
   "execution_count": null,
   "id": "08504ce3",
   "metadata": {
    "papermill": {
     "duration": null,
     "end_time": null,
     "exception": null,
     "start_time": null,
     "status": "pending"
    },
    "tags": []
   },
   "outputs": [],
   "source": []
  },
  {
   "cell_type": "code",
   "execution_count": null,
   "id": "81c7e680",
   "metadata": {
    "papermill": {
     "duration": null,
     "end_time": null,
     "exception": null,
     "start_time": null,
     "status": "pending"
    },
    "tags": []
   },
   "outputs": [],
   "source": [
    "with open(\"artifacts/model_metrics.json\") as f:\n",
    "    payload = json.dumps(model_metrics)\n",
    "    f.write(payload)\n"
   ]
  },
  {
   "cell_type": "code",
   "execution_count": null,
   "id": "f50363cf",
   "metadata": {
    "papermill": {
     "duration": null,
     "end_time": null,
     "exception": null,
     "start_time": null,
     "status": "pending"
    },
    "tags": []
   },
   "outputs": [],
   "source": [
    "df_train.to_parquet(\"artifacts/data/df_train.parquet\")\n",
    "df_test.to_parquet(\"artifacts/data/df_test.parquet\")\n",
    "df_val.to_parquet(\"artifacts/data/df_val.parquet\")\n",
    "df_eval.to_parquet(\"artifacts/data/adf_eval.parquet\")"
   ]
  },
  {
   "cell_type": "code",
   "execution_count": null,
   "id": "57e087b3",
   "metadata": {
    "papermill": {
     "duration": null,
     "end_time": null,
     "exception": null,
     "start_time": null,
     "status": "pending"
    },
    "tags": []
   },
   "outputs": [],
   "source": []
  },
  {
   "cell_type": "code",
   "execution_count": null,
   "id": "7a9fa5f6",
   "metadata": {
    "papermill": {
     "duration": null,
     "end_time": null,
     "exception": null,
     "start_time": null,
     "status": "pending"
    },
    "tags": []
   },
   "outputs": [],
   "source": []
  },
  {
   "cell_type": "markdown",
   "id": "6e9dff7c",
   "metadata": {
    "papermill": {
     "duration": null,
     "end_time": null,
     "exception": null,
     "start_time": null,
     "status": "pending"
    },
    "tags": []
   },
   "source": [
    "## Best Model"
   ]
  },
  {
   "cell_type": "code",
   "execution_count": null,
   "id": "942add54",
   "metadata": {
    "papermill": {
     "duration": null,
     "end_time": null,
     "exception": null,
     "start_time": null,
     "status": "pending"
    },
    "tags": []
   },
   "outputs": [],
   "source": [
    "model_name = \"mobilenet_v2\"\n",
    "artifact_model_path = f\"artifacts/model_{model_name}.pt\""
   ]
  },
  {
   "cell_type": "code",
   "execution_count": null,
   "id": "34daca61",
   "metadata": {
    "papermill": {
     "duration": null,
     "end_time": null,
     "exception": null,
     "start_time": null,
     "status": "pending"
    },
    "tags": []
   },
   "outputs": [],
   "source": [
    "model = flash.image.ImageClassifier.load_from_checkpoint(artifact_model_path)\n",
    "model"
   ]
  },
  {
   "cell_type": "code",
   "execution_count": null,
   "id": "b1465402",
   "metadata": {
    "papermill": {
     "duration": null,
     "end_time": null,
     "exception": null,
     "start_time": null,
     "status": "pending"
    },
    "tags": []
   },
   "outputs": [],
   "source": [
    "model_summary = torchinfo.summary(model, input_size=sample_input_size, verbose=0)\n",
    "model_summary"
   ]
  },
  {
   "cell_type": "markdown",
   "id": "207b7065",
   "metadata": {
    "papermill": {
     "duration": null,
     "end_time": null,
     "exception": null,
     "start_time": null,
     "status": "pending"
    },
    "tags": []
   },
   "source": [
    "## Predict on Single"
   ]
  },
  {
   "cell_type": "code",
   "execution_count": null,
   "id": "d77136ba",
   "metadata": {
    "papermill": {
     "duration": null,
     "end_time": null,
     "exception": null,
     "start_time": null,
     "status": "pending"
    },
    "tags": []
   },
   "outputs": [],
   "source": [
    "model.serializer = flash.core.classification.Probabilities()"
   ]
  },
  {
   "cell_type": "code",
   "execution_count": null,
   "id": "8b1bd733",
   "metadata": {
    "papermill": {
     "duration": null,
     "end_time": null,
     "exception": null,
     "start_time": null,
     "status": "pending"
    },
    "tags": []
   },
   "outputs": [],
   "source": [
    "predictions = model.predict(\"data/food-101-subset/images/apple_pie/1005649.jpg\")\n",
    "predictions\n",
    "#label_encoder.inverse_transform(predictions)"
   ]
  },
  {
   "cell_type": "code",
   "execution_count": null,
   "id": "71002b6f",
   "metadata": {
    "papermill": {
     "duration": null,
     "end_time": null,
     "exception": null,
     "start_time": null,
     "status": "pending"
    },
    "tags": []
   },
   "outputs": [],
   "source": [
    "predictions[0]"
   ]
  },
  {
   "cell_type": "code",
   "execution_count": null,
   "id": "cbff9e58",
   "metadata": {
    "papermill": {
     "duration": null,
     "end_time": null,
     "exception": null,
     "start_time": null,
     "status": "pending"
    },
    "tags": []
   },
   "outputs": [],
   "source": [
    "sorted ( zip (label_encoder.classes_, predictions[0]), key= lambda x:x[1] ,reverse =True)"
   ]
  },
  {
   "cell_type": "code",
   "execution_count": null,
   "id": "c653d3ba",
   "metadata": {
    "papermill": {
     "duration": null,
     "end_time": null,
     "exception": null,
     "start_time": null,
     "status": "pending"
    },
    "tags": []
   },
   "outputs": [],
   "source": []
  },
  {
   "cell_type": "code",
   "execution_count": null,
   "id": "5959f606",
   "metadata": {
    "papermill": {
     "duration": null,
     "end_time": null,
     "exception": null,
     "start_time": null,
     "status": "pending"
    },
    "tags": []
   },
   "outputs": [],
   "source": []
  },
  {
   "cell_type": "code",
   "execution_count": null,
   "id": "0b8382af",
   "metadata": {
    "papermill": {
     "duration": null,
     "end_time": null,
     "exception": null,
     "start_time": null,
     "status": "pending"
    },
    "tags": []
   },
   "outputs": [],
   "source": [
    "# datamodule_predict = ImageClassificationData.from_data_frame(\n",
    "#     \"file_path\",\n",
    "#     \"label\",\n",
    "#     test_data_frame=df_test,\n",
    "#     predict_transform=default_transforms\n",
    "# )\n",
    "# datamodule_predict"
   ]
  },
  {
   "cell_type": "code",
   "execution_count": null,
   "id": "813e45ce",
   "metadata": {
    "papermill": {
     "duration": null,
     "end_time": null,
     "exception": null,
     "start_time": null,
     "status": "pending"
    },
    "tags": []
   },
   "outputs": [],
   "source": []
  },
  {
   "cell_type": "markdown",
   "id": "dc239ac1",
   "metadata": {
    "papermill": {
     "duration": null,
     "end_time": null,
     "exception": null,
     "start_time": null,
     "status": "pending"
    },
    "tags": []
   },
   "source": [
    "## Predict on dataset"
   ]
  },
  {
   "cell_type": "code",
   "execution_count": null,
   "id": "b22a9200",
   "metadata": {
    "papermill": {
     "duration": null,
     "end_time": null,
     "exception": null,
     "start_time": null,
     "status": "pending"
    },
    "tags": []
   },
   "outputs": [],
   "source": [
    "#?flash.core.classification.PredsClassificationSerializer"
   ]
  },
  {
   "cell_type": "code",
   "execution_count": null,
   "id": "ed74e9a9",
   "metadata": {
    "papermill": {
     "duration": null,
     "end_time": null,
     "exception": null,
     "start_time": null,
     "status": "pending"
    },
    "tags": []
   },
   "outputs": [],
   "source": [
    "# model.serializer = flash.core.classification.PredsClassificationSerializer()\n",
    "# fo_predict = create_fiftyone_dataset(df_test,\"predict\")\n",
    "# datamodule_predict = ImageClassificationData.from_fiftyone(fo_predict)\n"
   ]
  },
  {
   "cell_type": "code",
   "execution_count": null,
   "id": "6698370e",
   "metadata": {
    "papermill": {
     "duration": null,
     "end_time": null,
     "exception": null,
     "start_time": null,
     "status": "pending"
    },
    "tags": []
   },
   "outputs": [],
   "source": [
    "model.serializer = flash.core.classification.FiftyOneLabels(return_filepath=False, labels=label_encoder.classes_)  # output FiftyOne format\n",
    "fo_predict = create_fiftyone_dataset(df_eval,\"predict\")\n",
    "datamodule_predict = flash.image.ImageClassificationData.from_fiftyone(predict_dataset=fo_predict)\n"
   ]
  },
  {
   "cell_type": "code",
   "execution_count": null,
   "id": "f4c1797f",
   "metadata": {
    "papermill": {
     "duration": null,
     "end_time": null,
     "exception": null,
     "start_time": null,
     "status": "pending"
    },
    "tags": []
   },
   "outputs": [],
   "source": [
    "\n"
   ]
  },
  {
   "cell_type": "code",
   "execution_count": null,
   "id": "f446d9fd",
   "metadata": {
    "papermill": {
     "duration": null,
     "end_time": null,
     "exception": null,
     "start_time": null,
     "status": "pending"
    },
    "tags": []
   },
   "outputs": [],
   "source": [
    "\n"
   ]
  },
  {
   "cell_type": "code",
   "execution_count": null,
   "id": "379e6e03",
   "metadata": {
    "papermill": {
     "duration": null,
     "end_time": null,
     "exception": null,
     "start_time": null,
     "status": "pending"
    },
    "tags": []
   },
   "outputs": [],
   "source": [
    "predictions = trainer.predict(model, datamodule=datamodule_predict) # datamodule_predict\n",
    "predictions = list(itertools.chain.from_iterable(predictions))  # flatten batches\n",
    "\n",
    "fo_predict.set_values(\"predictions\", predictions)"
   ]
  },
  {
   "cell_type": "code",
   "execution_count": null,
   "id": "210ed5a7",
   "metadata": {
    "papermill": {
     "duration": null,
     "end_time": null,
     "exception": null,
     "start_time": null,
     "status": "pending"
    },
    "tags": []
   },
   "outputs": [],
   "source": [
    "predictions[0]"
   ]
  },
  {
   "cell_type": "code",
   "execution_count": null,
   "id": "4d346b50",
   "metadata": {
    "papermill": {
     "duration": null,
     "end_time": null,
     "exception": null,
     "start_time": null,
     "status": "pending"
    },
    "tags": []
   },
   "outputs": [],
   "source": [
    "results = fo_predict.evaluate_classifications(\"predictions\", gt_field=\"ground_truth\", eval_key=\"eval\")\n",
    "results.print_report()"
   ]
  },
  {
   "cell_type": "code",
   "execution_count": null,
   "id": "7ab64228",
   "metadata": {
    "papermill": {
     "duration": null,
     "end_time": null,
     "exception": null,
     "start_time": null,
     "status": "pending"
    },
    "tags": []
   },
   "outputs": [],
   "source": []
  },
  {
   "cell_type": "code",
   "execution_count": null,
   "id": "b7e41e89",
   "metadata": {
    "papermill": {
     "duration": null,
     "end_time": null,
     "exception": null,
     "start_time": null,
     "status": "pending"
    },
    "tags": []
   },
   "outputs": [],
   "source": [
    "plot = results.plot_confusion_matrix(classes=label_encoder.classes_)\n",
    "plot.show()"
   ]
  },
  {
   "cell_type": "code",
   "execution_count": null,
   "id": "177a4f6f",
   "metadata": {
    "papermill": {
     "duration": null,
     "end_time": null,
     "exception": null,
     "start_time": null,
     "status": "pending"
    },
    "tags": []
   },
   "outputs": [],
   "source": []
  },
  {
   "cell_type": "code",
   "execution_count": null,
   "id": "e00d4afd",
   "metadata": {
    "papermill": {
     "duration": null,
     "end_time": null,
     "exception": null,
     "start_time": null,
     "status": "pending"
    },
    "tags": []
   },
   "outputs": [],
   "source": [
    "# 8 Visualize results in the App\n",
    "session = fo.launch_app(fo_predict, auto=False)\n",
    "\n"
   ]
  },
  {
   "cell_type": "code",
   "execution_count": null,
   "id": "761c12ad",
   "metadata": {
    "papermill": {
     "duration": null,
     "end_time": null,
     "exception": null,
     "start_time": null,
     "status": "pending"
    },
    "tags": []
   },
   "outputs": [],
   "source": [
    "session.open_tab()\n"
   ]
  },
  {
   "cell_type": "code",
   "execution_count": null,
   "id": "cdb7178f",
   "metadata": {
    "papermill": {
     "duration": null,
     "end_time": null,
     "exception": null,
     "start_time": null,
     "status": "pending"
    },
    "tags": []
   },
   "outputs": [],
   "source": [
    "!ip a"
   ]
  },
  {
   "cell_type": "code",
   "execution_count": null,
   "id": "8f6c21e3",
   "metadata": {
    "papermill": {
     "duration": null,
     "end_time": null,
     "exception": null,
     "start_time": null,
     "status": "pending"
    },
    "tags": []
   },
   "outputs": [],
   "source": []
  },
  {
   "cell_type": "code",
   "execution_count": null,
   "id": "a810ec23",
   "metadata": {
    "papermill": {
     "duration": null,
     "end_time": null,
     "exception": null,
     "start_time": null,
     "status": "pending"
    },
    "tags": []
   },
   "outputs": [],
   "source": []
  },
  {
   "cell_type": "code",
   "execution_count": null,
   "id": "8efc2807",
   "metadata": {
    "papermill": {
     "duration": null,
     "end_time": null,
     "exception": null,
     "start_time": null,
     "status": "pending"
    },
    "tags": []
   },
   "outputs": [],
   "source": []
  },
  {
   "cell_type": "code",
   "execution_count": null,
   "id": "5179d9a0",
   "metadata": {
    "papermill": {
     "duration": null,
     "end_time": null,
     "exception": null,
     "start_time": null,
     "status": "pending"
    },
    "tags": []
   },
   "outputs": [],
   "source": []
  },
  {
   "cell_type": "code",
   "execution_count": null,
   "id": "e189ab5f",
   "metadata": {
    "papermill": {
     "duration": null,
     "end_time": null,
     "exception": null,
     "start_time": null,
     "status": "pending"
    },
    "tags": []
   },
   "outputs": [],
   "source": [
    "# Plot confusion matrix\n",
    "plot = results.plot_confusion_matrix(classes=label_encoder.classes_)\n",
    "plot.show(height=600)\n",
    "\n"
   ]
  },
  {
   "cell_type": "code",
   "execution_count": null,
   "id": "48ff2aac",
   "metadata": {
    "papermill": {
     "duration": null,
     "end_time": null,
     "exception": null,
     "start_time": null,
     "status": "pending"
    },
    "tags": []
   },
   "outputs": [],
   "source": [
    "# Connect to session\n",
    "#session.plots.attach(plot)"
   ]
  },
  {
   "cell_type": "code",
   "execution_count": null,
   "id": "c1f0ffb3",
   "metadata": {
    "papermill": {
     "duration": null,
     "end_time": null,
     "exception": null,
     "start_time": null,
     "status": "pending"
    },
    "tags": []
   },
   "outputs": [],
   "source": []
  },
  {
   "cell_type": "code",
   "execution_count": null,
   "id": "1fac5cd5",
   "metadata": {
    "papermill": {
     "duration": null,
     "end_time": null,
     "exception": null,
     "start_time": null,
     "status": "pending"
    },
    "tags": []
   },
   "outputs": [],
   "source": []
  },
  {
   "cell_type": "code",
   "execution_count": null,
   "id": "d122e201",
   "metadata": {
    "papermill": {
     "duration": null,
     "end_time": null,
     "exception": null,
     "start_time": null,
     "status": "pending"
    },
    "tags": []
   },
   "outputs": [],
   "source": [
    "# # Optional: block execution until App is closed\n",
    "# session.wait()"
   ]
  },
  {
   "cell_type": "code",
   "execution_count": null,
   "id": "1da31c5b",
   "metadata": {
    "papermill": {
     "duration": null,
     "end_time": null,
     "exception": null,
     "start_time": null,
     "status": "pending"
    },
    "tags": []
   },
   "outputs": [],
   "source": []
  },
  {
   "cell_type": "code",
   "execution_count": null,
   "id": "a0136dab",
   "metadata": {
    "papermill": {
     "duration": null,
     "end_time": null,
     "exception": null,
     "start_time": null,
     "status": "pending"
    },
    "tags": []
   },
   "outputs": [],
   "source": []
  },
  {
   "cell_type": "markdown",
   "id": "faa82ec8",
   "metadata": {
    "papermill": {
     "duration": null,
     "end_time": null,
     "exception": null,
     "start_time": null,
     "status": "pending"
    },
    "tags": []
   },
   "source": [
    "## Prediction using datamodule"
   ]
  },
  {
   "cell_type": "code",
   "execution_count": null,
   "id": "508066f6",
   "metadata": {
    "papermill": {
     "duration": null,
     "end_time": null,
     "exception": null,
     "start_time": null,
     "status": "pending"
    },
    "tags": []
   },
   "outputs": [],
   "source": [
    "model.serializer = flash.core.classification.Probabilities()\n",
    "\n",
    "predictions = trainer.predict(model,datamodule=datamodule_predict)\n",
    "predictions = list(itertools.chain.from_iterable(predictions))  # flatten batches\n"
   ]
  },
  {
   "cell_type": "code",
   "execution_count": null,
   "id": "8a6094e6",
   "metadata": {
    "papermill": {
     "duration": null,
     "end_time": null,
     "exception": null,
     "start_time": null,
     "status": "pending"
    },
    "tags": []
   },
   "outputs": [],
   "source": [
    "# y_proba = model.predict(list ( df_test['file_path'] ) )\n",
    "# y_pred = np.argmax(y_proba, axis=1)\n",
    "# y_true = df_test['label']"
   ]
  },
  {
   "cell_type": "code",
   "execution_count": null,
   "id": "4e8da3c3",
   "metadata": {
    "papermill": {
     "duration": null,
     "end_time": null,
     "exception": null,
     "start_time": null,
     "status": "pending"
    },
    "tags": []
   },
   "outputs": [],
   "source": [
    "y_proba = predictions\n",
    "y_pred = np.argmax(y_proba, axis=1)\n",
    "y_true = df_test['label']"
   ]
  },
  {
   "cell_type": "code",
   "execution_count": null,
   "id": "f119e609",
   "metadata": {
    "papermill": {
     "duration": null,
     "end_time": null,
     "exception": null,
     "start_time": null,
     "status": "pending"
    },
    "tags": []
   },
   "outputs": [],
   "source": []
  },
  {
   "cell_type": "code",
   "execution_count": null,
   "id": "92bbeef9",
   "metadata": {
    "papermill": {
     "duration": null,
     "end_time": null,
     "exception": null,
     "start_time": null,
     "status": "pending"
    },
    "tags": []
   },
   "outputs": [],
   "source": [
    "# https://stackoverflow.com/questions/60860121/plotly-how-to-make-an-annotated-confusion-matrix-using-a-heatmap\n",
    "fig, ax = plt.subplots(figsize=(15,15))\n",
    "cm_labels = label_encoder.classes_\n",
    "disp = sklearn.metrics.ConfusionMatrixDisplay.from_predictions(\n",
    "    y_true=y_true, y_pred = y_pred ,\n",
    "    #normalize = 'true',\n",
    "    display_labels=cm_labels,\n",
    "    xticks_rotation='vertical',\n",
    "    ax=ax\n",
    ")\n",
    "disp"
   ]
  },
  {
   "cell_type": "code",
   "execution_count": null,
   "id": "b1f3adcf",
   "metadata": {
    "papermill": {
     "duration": null,
     "end_time": null,
     "exception": null,
     "start_time": null,
     "status": "pending"
    },
    "tags": []
   },
   "outputs": [],
   "source": []
  },
  {
   "cell_type": "markdown",
   "id": "ea3b2941",
   "metadata": {
    "papermill": {
     "duration": null,
     "end_time": null,
     "exception": null,
     "start_time": null,
     "status": "pending"
    },
    "tags": []
   },
   "source": [
    "## Model inference"
   ]
  },
  {
   "cell_type": "code",
   "execution_count": null,
   "id": "27bbfedc",
   "metadata": {
    "papermill": {
     "duration": null,
     "end_time": null,
     "exception": null,
     "start_time": null,
     "status": "pending"
    },
    "tags": []
   },
   "outputs": [],
   "source": []
  },
  {
   "cell_type": "code",
   "execution_count": null,
   "id": "e28137b3",
   "metadata": {
    "papermill": {
     "duration": null,
     "end_time": null,
     "exception": null,
     "start_time": null,
     "status": "pending"
    },
    "tags": []
   },
   "outputs": [],
   "source": [
    "sample_image = \"data/food-101-subset/images/apple_pie/1005649.jpg\""
   ]
  },
  {
   "cell_type": "code",
   "execution_count": null,
   "id": "7fbd6a17",
   "metadata": {
    "papermill": {
     "duration": null,
     "end_time": null,
     "exception": null,
     "start_time": null,
     "status": "pending"
    },
    "tags": []
   },
   "outputs": [],
   "source": [
    "model.eval()"
   ]
  },
  {
   "cell_type": "code",
   "execution_count": null,
   "id": "d77b82e4",
   "metadata": {
    "papermill": {
     "duration": null,
     "end_time": null,
     "exception": null,
     "start_time": null,
     "status": "pending"
    },
    "tags": []
   },
   "outputs": [],
   "source": [
    "%%timeit -r 9 -n 5\n",
    "time_inference (model,device='cuda:0')\n"
   ]
  },
  {
   "cell_type": "code",
   "execution_count": null,
   "id": "3b5b351f",
   "metadata": {
    "papermill": {
     "duration": null,
     "end_time": null,
     "exception": null,
     "start_time": null,
     "status": "pending"
    },
    "tags": []
   },
   "outputs": [],
   "source": [
    "%%timeit -r 9 -n 5\n",
    "time_inference (model,device='cpu')\n"
   ]
  },
  {
   "cell_type": "markdown",
   "id": "175fa189",
   "metadata": {
    "id": "Bk6M8HvofvTR",
    "papermill": {
     "duration": null,
     "end_time": null,
     "exception": null,
     "start_time": null,
     "status": "pending"
    },
    "tags": []
   },
   "source": [
    "# Get Model Size"
   ]
  },
  {
   "cell_type": "code",
   "execution_count": null,
   "id": "b613c7e7",
   "metadata": {
    "papermill": {
     "duration": null,
     "end_time": null,
     "exception": null,
     "start_time": null,
     "status": "pending"
    },
    "tags": []
   },
   "outputs": [],
   "source": []
  },
  {
   "cell_type": "code",
   "execution_count": null,
   "id": "ed0f3e5c",
   "metadata": {
    "id": "bWPA6uYlUyBV",
    "papermill": {
     "duration": null,
     "end_time": null,
     "exception": null,
     "start_time": null,
     "status": "pending"
    },
    "tags": []
   },
   "outputs": [],
   "source": [
    "! du -h artifacts"
   ]
  },
  {
   "cell_type": "code",
   "execution_count": null,
   "id": "94dd77e4",
   "metadata": {
    "id": "fbIPxgoN3zvd",
    "papermill": {
     "duration": null,
     "end_time": null,
     "exception": null,
     "start_time": null,
     "status": "pending"
    },
    "tags": []
   },
   "outputs": [],
   "source": [
    "!ls artifacts/ -lah"
   ]
  },
  {
   "cell_type": "markdown",
   "id": "a54cb28a",
   "metadata": {
    "id": "bILr-eFU-wUG",
    "papermill": {
     "duration": null,
     "end_time": null,
     "exception": null,
     "start_time": null,
     "status": "pending"
    },
    "tags": []
   },
   "source": [
    "# Compare Models\n",
    "\n",
    "- Dataset:  Food\n",
    "- Classes: 3\n",
    "- Total images: 3000\n",
    "- Batch size: 32\n",
    "\n",
    "| Model  | Trainable Params| Non-trainable Params | Time (hh:mm:ss) [a]| Accuracy | Epochs | Model Size [b]\n",
    "|---|---:|---:|---:|---:| ---:|---:|\n",
    "| VGG19| 528,387   | 20,024,384 | 00:00:48 | 96.8% | 3 | 83M\n",
    "| ResNet50   | xxx   | xxx |  xx:xx:xx | xx.x% | 3 | xxM\n",
    "| MobileNetV2  | xxx  | xxx |   xx:xx:xx | xx.x% | 3 | xxM\n",
    "| ResNet50_ft [c]  | xxx  | xxx | xx:xx:xx   | xx.x% | xx | xxM\n",
    "\n",
    "NOTES:  \n",
    "- [a] If wall clock time < CPU time, then you're executing a program in parallel.\n",
    "- [b] model size is size of output file\n",
    "- [c] ft = fine-tuned; time 2min 31s; 3min 59s; epochs 9+5\n"
   ]
  },
  {
   "cell_type": "code",
   "execution_count": null,
   "id": "aa272b7e",
   "metadata": {
    "id": "CU9ACHvSIEnZ",
    "papermill": {
     "duration": null,
     "end_time": null,
     "exception": null,
     "start_time": null,
     "status": "pending"
    },
    "tags": []
   },
   "outputs": [],
   "source": []
  },
  {
   "cell_type": "code",
   "execution_count": null,
   "id": "4823c62e",
   "metadata": {
    "id": "xVz7Xf40tPPP",
    "papermill": {
     "duration": null,
     "end_time": null,
     "exception": null,
     "start_time": null,
     "status": "pending"
    },
    "tags": []
   },
   "outputs": [],
   "source": []
  },
  {
   "cell_type": "markdown",
   "id": "88179293",
   "metadata": {
    "id": "oh76dgMeVIDD",
    "papermill": {
     "duration": null,
     "end_time": null,
     "exception": null,
     "start_time": null,
     "status": "pending"
    },
    "tags": []
   },
   "source": [
    "# Download Assets\n",
    "download model and classes.json"
   ]
  },
  {
   "cell_type": "code",
   "execution_count": null,
   "id": "13e3967c",
   "metadata": {
    "id": "jqxTNOVCoHCc",
    "papermill": {
     "duration": null,
     "end_time": null,
     "exception": null,
     "start_time": null,
     "status": "pending"
    },
    "tags": []
   },
   "outputs": [],
   "source": [
    "#!zip -r artifacts/artifacts.zip {PROJECT_NAME}/artifacts/"
   ]
  },
  {
   "cell_type": "code",
   "execution_count": null,
   "id": "687a498f",
   "metadata": {
    "id": "63KIL2HndL-c",
    "papermill": {
     "duration": null,
     "end_time": null,
     "exception": null,
     "start_time": null,
     "status": "pending"
    },
    "tags": []
   },
   "outputs": [],
   "source": [
    "# from google.colab import files\n",
    "# files.download(str(str(PROJECT_NAME)+\"/artifacts/artifacts.zip\"))"
   ]
  },
  {
   "cell_type": "code",
   "execution_count": null,
   "id": "aa03a724",
   "metadata": {
    "id": "GVrj_UAD-xDr",
    "papermill": {
     "duration": null,
     "end_time": null,
     "exception": null,
     "start_time": null,
     "status": "pending"
    },
    "tags": []
   },
   "outputs": [],
   "source": []
  }
 ],
 "metadata": {
  "accelerator": "GPU",
  "celltoolbar": "Tags",
  "colab": {
   "collapsed_sections": [],
   "name": "milestone1_partial_solution_3classes.ipynb",
   "provenance": [],
   "toc_visible": true
  },
  "environment": {
   "name": "rapids-gpu.0-18.m65",
   "type": "gcloud",
   "uri": "gcr.io/deeplearning-platform-release/rapids-gpu.0-18:m65"
  },
  "kernelspec": {
   "display_name": "Python [conda env:pytorch]",
   "language": "python",
   "name": "conda-env-pytorch-py"
  },
  "language_info": {
   "codemirror_mode": {
    "name": "ipython",
    "version": 3
   },
   "file_extension": ".py",
   "mimetype": "text/x-python",
   "name": "python",
   "nbconvert_exporter": "python",
   "pygments_lexer": "ipython3",
   "version": "3.7.12"
  },
  "papermill": {
   "default_parameters": {},
   "duration": null,
   "end_time": null,
   "environment_variables": {},
   "exception": null,
   "input_path": "01_training.ipynb",
   "output_path": "01_training__output.ipynb",
   "parameters": {
    "model": "resnet34"
   },
   "start_time": "2021-11-08T10:42:35.948542",
   "version": "2.3.3"
  }
 },
 "nbformat": 4,
 "nbformat_minor": 5
}
