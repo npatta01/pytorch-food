{
 "cells": [
  {
   "cell_type": "code",
   "execution_count": 1,
   "id": "infrared-spencer",
   "metadata": {},
   "outputs": [],
   "source": [
    "import torch\n",
    "import torchvision\n",
    "from torch.utils.mobile_optimizer import optimize_for_mobile"
   ]
  },
  {
   "cell_type": "code",
   "execution_count": 8,
   "id": "lesser-logging",
   "metadata": {},
   "outputs": [],
   "source": [
    "save_path = \"artifacts/model_food_small.pt\"\n",
    "optimized_save_path = \"artifacts/model_food_small__optimized.pt\""
   ]
  },
  {
   "cell_type": "code",
   "execution_count": 5,
   "id": "sixth-velvet",
   "metadata": {},
   "outputs": [],
   "source": [
    "model = torch.load(save_path)\n",
    "model = model.to('cpu')\n",
    "model.eval();"
   ]
  },
  {
   "cell_type": "code",
   "execution_count": null,
   "id": "russian-sense",
   "metadata": {},
   "outputs": [],
   "source": [
    "\n"
   ]
  },
  {
   "cell_type": "code",
   "execution_count": 7,
   "id": "permanent-madrid",
   "metadata": {},
   "outputs": [],
   "source": [
    "example = torch.rand(1, 3, 224, 224)\n",
    "traced_script_module = torch.jit.trace(model, example)\n"
   ]
  },
  {
   "cell_type": "code",
   "execution_count": 6,
   "id": "hearing-superintendent",
   "metadata": {},
   "outputs": [
    {
     "data": {
      "text/plain": [
       "\u001b[0;31mSignature:\u001b[0m\n",
       "\u001b[0moptimize_for_mobile\u001b[0m\u001b[0;34m(\u001b[0m\u001b[0;34m\u001b[0m\n",
       "\u001b[0;34m\u001b[0m    \u001b[0mscript_module\u001b[0m\u001b[0;34m,\u001b[0m\u001b[0;34m\u001b[0m\n",
       "\u001b[0;34m\u001b[0m    \u001b[0moptimization_blocklist\u001b[0m\u001b[0;34m:\u001b[0m \u001b[0mSet\u001b[0m\u001b[0;34m[\u001b[0m\u001b[0mtorch\u001b[0m\u001b[0;34m.\u001b[0m\u001b[0m_C\u001b[0m\u001b[0;34m.\u001b[0m\u001b[0mMobileOptimizerType\u001b[0m\u001b[0;34m]\u001b[0m \u001b[0;34m=\u001b[0m \u001b[0;32mNone\u001b[0m\u001b[0;34m,\u001b[0m\u001b[0;34m\u001b[0m\n",
       "\u001b[0;34m\u001b[0m    \u001b[0mpreserved_methods\u001b[0m\u001b[0;34m:\u001b[0m \u001b[0mList\u001b[0m\u001b[0;34m[\u001b[0m\u001b[0;34m~\u001b[0m\u001b[0mAnyStr\u001b[0m\u001b[0;34m]\u001b[0m \u001b[0;34m=\u001b[0m \u001b[0;32mNone\u001b[0m\u001b[0;34m,\u001b[0m\u001b[0;34m\u001b[0m\n",
       "\u001b[0;34m\u001b[0m    \u001b[0mbackend\u001b[0m\u001b[0;34m:\u001b[0m \u001b[0mstr\u001b[0m \u001b[0;34m=\u001b[0m \u001b[0;34m'CPU'\u001b[0m\u001b[0;34m,\u001b[0m\u001b[0;34m\u001b[0m\n",
       "\u001b[0;34m\u001b[0m\u001b[0;34m)\u001b[0m\u001b[0;34m\u001b[0m\u001b[0;34m\u001b[0m\u001b[0m\n",
       "\u001b[0;31mDocstring:\u001b[0m\n",
       "Args:\n",
       "    script_module: An instance of torch script module with type of ScriptModule.\n",
       "    optimization_blocklist: A set with type of MobileOptimizerType. When set is not passed,\n",
       "        optimization method will run all the optimizer pass; otherwise, optimizer\n",
       "        method will run the optimization pass that is not included inside optimization_blocklist.\n",
       "    perserved_methods: A list of methods that needed to be preserved when freeze_module pass is invoked\n",
       "    backend: Device type to use for running the result model ('CPU'(default), 'Vulkan' or 'Metal').\n",
       "Returns:\n",
       "    A new optimized torch script module\n",
       "\u001b[0;31mFile:\u001b[0m      /opt/conda/envs/pytorch/lib/python3.7/site-packages/torch/utils/mobile_optimizer.py\n",
       "\u001b[0;31mType:\u001b[0m      function\n"
      ]
     },
     "metadata": {},
     "output_type": "display_data"
    }
   ],
   "source": [
    "?optimize_for_mobile"
   ]
  },
  {
   "cell_type": "code",
   "execution_count": 9,
   "id": "honey-ladder",
   "metadata": {},
   "outputs": [],
   "source": [
    "torchscript_model_optimized = optimize_for_mobile(traced_script_module)\n",
    "torchscript_model_optimized._save_for_lite_interpreter(optimized_save_path)\n"
   ]
  },
  {
   "cell_type": "code",
   "execution_count": 13,
   "id": "combined-reunion",
   "metadata": {},
   "outputs": [
    {
     "name": "stdout",
     "output_type": "stream",
     "text": [
      "total 78M\n",
      "drwxr-xr-x 3 jupyter jupyter 4.0K Sep 13 00:32 .\n",
      "drwxr-xr-x 6 jupyter jupyter 4.0K Sep 13 00:31 ..\n",
      "drwxr-xr-x 2 jupyter jupyter 4.0K Sep 12 19:21 .ipynb_checkpoints\n",
      "-rw-r--r-- 1 jupyter jupyter  43M Sep 12 19:29 image_classification_model.pt\n",
      "-rw-r--r-- 1 jupyter jupyter 8.8M Sep 12 20:44 model_ants.pt\n",
      "-rw-r--r-- 1 jupyter jupyter 8.8M Sep 12 21:33 model_food_small.pt\n",
      "-rw-r--r-- 1 jupyter jupyter  17M Sep 13 00:32 model_food_small__optimized.pt\n"
     ]
    }
   ],
   "source": [
    "!ls -lah artifacts"
   ]
  },
  {
   "cell_type": "code",
   "execution_count": 12,
   "id": "joined-packet",
   "metadata": {},
   "outputs": [
    {
     "name": "stdout",
     "output_type": "stream",
     "text": [
      "/home/jupyter/tutorials/personal/pytorch_vision/notebooks\n"
     ]
    }
   ],
   "source": [
    "!pwd"
   ]
  },
  {
   "cell_type": "code",
   "execution_count": null,
   "id": "composite-surveillance",
   "metadata": {},
   "outputs": [],
   "source": []
  }
 ],
 "metadata": {
  "environment": {
   "name": "rapids-gpu.0-18.m65",
   "type": "gcloud",
   "uri": "gcr.io/deeplearning-platform-release/rapids-gpu.0-18:m65"
  },
  "kernelspec": {
   "display_name": "Python [conda env:pytorch]",
   "language": "python",
   "name": "conda-env-pytorch-py"
  },
  "language_info": {
   "codemirror_mode": {
    "name": "ipython",
    "version": 3
   },
   "file_extension": ".py",
   "mimetype": "text/x-python",
   "name": "python",
   "nbconvert_exporter": "python",
   "pygments_lexer": "ipython3",
   "version": "3.7.10"
  }
 },
 "nbformat": 4,
 "nbformat_minor": 5
}
