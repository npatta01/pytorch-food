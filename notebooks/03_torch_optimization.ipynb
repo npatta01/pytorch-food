{
 "cells": [
  {
   "cell_type": "code",
   "execution_count": 9,
   "id": "published-attempt",
   "metadata": {},
   "outputs": [],
   "source": [
    "import torch\n",
    "import torchvision\n",
    "import flash"
   ]
  },
  {
   "cell_type": "code",
   "execution_count": 2,
   "id": "hybrid-disney",
   "metadata": {},
   "outputs": [],
   "source": [
    "save_path = \"artifacts/model/model_mobilenet_v2.pt\"\n",
    "optimized_save_path = \"artifacts/model_optimized/model_mobilenet_v2.pt\""
   ]
  },
  {
   "cell_type": "code",
   "execution_count": 6,
   "id": "special-substitute",
   "metadata": {},
   "outputs": [
    {
     "name": "stderr",
     "output_type": "stream",
     "text": [
      "Using 'mobilenet_v2' provided by PyTorch/torchvision (https://github.com/pytorch/vision).\n"
     ]
    }
   ],
   "source": [
    "model = flash.image.ImageClassifier.load_from_checkpoint(save_path) \n",
    "#model = torch.load(save_path)\n",
    "model = model.to('cpu')\n",
    "model.eval();"
   ]
  },
  {
   "cell_type": "code",
   "execution_count": null,
   "id": "japanese-fighter",
   "metadata": {},
   "outputs": [],
   "source": [
    "\n"
   ]
  },
  {
   "cell_type": "code",
   "execution_count": 7,
   "id": "important-senegal",
   "metadata": {},
   "outputs": [
    {
     "name": "stderr",
     "output_type": "stream",
     "text": [
      "/opt/conda/envs/pt/lib/python3.8/site-packages/torch/_jit_internal.py:668: LightningDeprecationWarning: The `LightningModule.loaded_optimizer_states_dict` property is deprecated in v1.4 and will be removed in v1.6.\n",
      "  if hasattr(mod, name):\n",
      "/opt/conda/envs/pt/lib/python3.8/site-packages/torch/_jit_internal.py:668: LightningDeprecationWarning: The `LightningModule.model_size` property was deprecated in v1.5 and will be removed in v1.7. Please use the `pytorch_lightning.utilities.memory.get_model_size_mb`.\n",
      "  if hasattr(mod, name):\n",
      "/opt/conda/envs/pt/lib/python3.8/site-packages/torch/_jit_internal.py:669: LightningDeprecationWarning: The `LightningModule.model_size` property was deprecated in v1.5 and will be removed in v1.7. Please use the `pytorch_lightning.utilities.memory.get_model_size_mb`.\n",
      "  item = getattr(mod, name)\n"
     ]
    }
   ],
   "source": [
    "example = torch.rand(1, 3, 224, 224)\n",
    "traced_script_module = torch.jit.trace(model, example)\n"
   ]
  },
  {
   "cell_type": "code",
   "execution_count": null,
   "id": "psychological-diversity",
   "metadata": {},
   "outputs": [],
   "source": [
    "?optimize_for_mobile"
   ]
  },
  {
   "cell_type": "code",
   "execution_count": 8,
   "id": "durable-praise",
   "metadata": {},
   "outputs": [],
   "source": [
    "torchscript_model_optimized = torch.utils.mobile_optimizer.optimize_for_mobile(traced_script_module)\n",
    "torchscript_model_optimized._save_for_lite_interpreter(optimized_save_path)\n"
   ]
  },
  {
   "cell_type": "code",
   "execution_count": 11,
   "id": "welcome-coverage",
   "metadata": {},
   "outputs": [
    {
     "name": "stdout",
     "output_type": "stream",
     "text": [
      "total 9.0M\n",
      "drwxr-xr-x 2 jupyter jupyter 4.0K Nov 10 11:08 .\n",
      "drwxr-xr-x 7 jupyter jupyter 4.0K Nov 10 11:02 ..\n",
      "-rw-r--r-- 1 jupyter jupyter 9.0M Nov 10 11:08 model_mobilenet_v2.pt\n"
     ]
    }
   ],
   "source": [
    "!ls -lah artifacts/model_optimized/"
   ]
  },
  {
   "cell_type": "code",
   "execution_count": null,
   "id": "daily-annex",
   "metadata": {},
   "outputs": [],
   "source": [
    "!pwd"
   ]
  },
  {
   "cell_type": "code",
   "execution_count": null,
   "id": "million-expression",
   "metadata": {},
   "outputs": [],
   "source": []
  }
 ],
 "metadata": {
  "environment": {
   "name": "rapids-gpu.0-18.m65",
   "type": "gcloud",
   "uri": "gcr.io/deeplearning-platform-release/rapids-gpu.0-18:m65"
  },
  "kernelspec": {
   "display_name": "Python [conda env:pt]",
   "language": "python",
   "name": "conda-env-pt-py"
  },
  "language_info": {
   "codemirror_mode": {
    "name": "ipython",
    "version": 3
   },
   "file_extension": ".py",
   "mimetype": "text/x-python",
   "name": "python",
   "nbconvert_exporter": "python",
   "pygments_lexer": "ipython3",
   "version": "3.8.12"
  }
 },
 "nbformat": 4,
 "nbformat_minor": 5
}
