{
 "cells": [
  {
   "cell_type": "code",
   "execution_count": null,
   "id": "unlike-monte",
   "metadata": {},
   "outputs": [],
   "source": [
    "!ls"
   ]
  },
  {
   "cell_type": "code",
   "execution_count": null,
   "id": "international-titanium",
   "metadata": {},
   "outputs": [],
   "source": [
    "%matplotlib widget"
   ]
  },
  {
   "cell_type": "code",
   "execution_count": null,
   "id": "surgical-robinson",
   "metadata": {},
   "outputs": [],
   "source": [
    "import matplotlib.pyplot as plt\n"
   ]
  },
  {
   "cell_type": "code",
   "execution_count": null,
   "id": "unauthorized-white",
   "metadata": {},
   "outputs": [],
   "source": [
    "plt.plot([0, 1, 2])"
   ]
  },
  {
   "cell_type": "code",
   "execution_count": null,
   "id": "handy-settle",
   "metadata": {},
   "outputs": [],
   "source": []
  },
  {
   "cell_type": "code",
   "execution_count": null,
   "id": "herbal-mustang",
   "metadata": {},
   "outputs": [],
   "source": [
    "from itertools import chain\n",
    "\n",
    "import fiftyone as fo\n",
    "import torch\n",
    "\n",
    "import flash\n",
    "from flash.core.classification import FiftyOneLabels, Labels\n",
    "from flash.core.data.utils import download_data\n",
    "from flash.core.finetuning import FreezeUnfreeze\n",
    "from flash.image import ImageClassificationData, ImageClassifier\n",
    "import torchvision"
   ]
  },
  {
   "cell_type": "code",
   "execution_count": null,
   "id": "answering-virgin",
   "metadata": {},
   "outputs": [],
   "source": [
    "\n",
    "# 1 Download data\n",
    "download_data(\"https://pl-flash-data.s3.amazonaws.com/hymenoptera_data.zip\")\n"
   ]
  },
  {
   "cell_type": "code",
   "execution_count": null,
   "id": "physical-contributor",
   "metadata": {},
   "outputs": [],
   "source": [
    "\n",
    "# 2 Load data into FiftyOne\n",
    "train_dataset = fo.Dataset.from_dir(\n",
    "    dataset_dir=\"data/hymenoptera_data/train/\",\n",
    "    dataset_type=fo.types.ImageClassificationDirectoryTree,\n",
    ")\n",
    "val_dataset = fo.Dataset.from_dir(\n",
    "    dataset_dir=\"data/hymenoptera_data/val/\",\n",
    "    dataset_type=fo.types.ImageClassificationDirectoryTree,\n",
    ")\n",
    "test_dataset = fo.Dataset.from_dir(\n",
    "    dataset_dir=\"data/hymenoptera_data/test/\",\n",
    "    dataset_type=fo.types.ImageClassificationDirectoryTree,\n",
    ")\n"
   ]
  },
  {
   "cell_type": "code",
   "execution_count": null,
   "id": "continental-bridge",
   "metadata": {},
   "outputs": [],
   "source": [
    "ImageClassificationData."
   ]
  },
  {
   "cell_type": "code",
   "execution_count": null,
   "id": "ethical-giving",
   "metadata": {},
   "outputs": [],
   "source": [
    "from torchvision import transforms as T\n"
   ]
  },
  {
   "cell_type": "code",
   "execution_count": null,
   "id": "innocent-detection",
   "metadata": {},
   "outputs": [],
   "source": [
    "datamodule = ImageClassificationData.from_fiftyone(\n",
    "    train_dataset=train_dataset,\n",
    "    val_dataset=val_dataset,\n",
    "    test_dataset=test_dataset\n",
    ")"
   ]
  },
  {
   "cell_type": "code",
   "execution_count": null,
   "id": "adjustable-virus",
   "metadata": {},
   "outputs": [],
   "source": [
    "\n",
    "# 3 Fine tune a model\n",
    "model = ImageClassifier(\n",
    "    backbone=\"resnet18\",\n",
    "    num_classes=datamodule.num_classes,\n",
    "    serializer=Labels(),\n",
    ")\n",
    "trainer = flash.Trainer(\n",
    "    max_epochs=1,\n",
    "    gpus=torch.cuda.device_count(),\n",
    "    limit_train_batches=1,\n",
    "    limit_val_batches=1,\n",
    ")\n",
    "trainer.finetune(\n",
    "    model,\n",
    "    datamodule=datamodule,\n",
    "    strategy=FreezeUnfreeze(unfreeze_epoch=1),\n",
    ")\n",
    "trainer.save_checkpoint(\"image_classification_model.pt\")\n"
   ]
  },
  {
   "cell_type": "code",
   "execution_count": null,
   "id": "seeing-pointer",
   "metadata": {},
   "outputs": [],
   "source": [
    "model = ImageClassifier.load_from_checkpoint(\"image_classification_model.pt\")"
   ]
  },
  {
   "cell_type": "code",
   "execution_count": null,
   "id": "fluid-livestock",
   "metadata": {},
   "outputs": [],
   "source": [
    "model;"
   ]
  },
  {
   "cell_type": "code",
   "execution_count": null,
   "id": "incomplete-gasoline",
   "metadata": {},
   "outputs": [],
   "source": [
    "test_dataset"
   ]
  },
  {
   "cell_type": "code",
   "execution_count": null,
   "id": "nominated-study",
   "metadata": {},
   "outputs": [],
   "source": [
    "model.serializer = FiftyOneLabels(return_filepath=False)  # output FiftyOne format\n"
   ]
  },
  {
   "cell_type": "code",
   "execution_count": null,
   "id": "numerical-handle",
   "metadata": {},
   "outputs": [],
   "source": [
    "datamodule"
   ]
  },
  {
   "cell_type": "code",
   "execution_count": null,
   "id": "proprietary-compression",
   "metadata": {},
   "outputs": [],
   "source": [
    "model.serializer = FiftyOneLabels(return_filepath=False)  # output FiftyOne format\n",
    "datamodule_predict = ImageClassificationData.from_fiftyone(predict_dataset=test_dataset)\n",
    "predictions = trainer.predict(model, datamodule=datamodule_predict)\n",
    "predictions = list(chain.from_iterable(predictions))  # flatten batches"
   ]
  },
  {
   "cell_type": "code",
   "execution_count": null,
   "id": "suspended-seller",
   "metadata": {},
   "outputs": [],
   "source": [
    "datamodule"
   ]
  },
  {
   "cell_type": "code",
   "execution_count": null,
   "id": "bound-forest",
   "metadata": {},
   "outputs": [],
   "source": [
    "predictions"
   ]
  },
  {
   "cell_type": "code",
   "execution_count": null,
   "id": "confirmed-jacket",
   "metadata": {},
   "outputs": [],
   "source": [
    "# 6 Add predictions to dataset\n",
    "test_dataset.set_values(\"predictions\", predictions)\n",
    "\n"
   ]
  },
  {
   "cell_type": "code",
   "execution_count": null,
   "id": "competent-terminology",
   "metadata": {},
   "outputs": [],
   "source": [
    "# 7 Evaluate your model\n",
    "results = test_dataset.evaluate_classifications(\"predictions\", gt_field=\"ground_truth\", eval_key=\"eval\")\n",
    "results.print_report()\n",
    "\n"
   ]
  },
  {
   "cell_type": "code",
   "execution_count": null,
   "id": "moderate-baghdad",
   "metadata": {},
   "outputs": [],
   "source": [
    "plot = results.plot_confusion_matrix()\n",
    "plot.show()\n"
   ]
  },
  {
   "cell_type": "code",
   "execution_count": null,
   "id": "false-calcium",
   "metadata": {},
   "outputs": [],
   "source": [
    "# 8 Visualize results in the App\n",
    "session = fo.launch_app(test_dataset ,auto=False)\n",
    "\n"
   ]
  },
  {
   "cell_type": "code",
   "execution_count": null,
   "id": "three-woman",
   "metadata": {},
   "outputs": [],
   "source": [
    "session.open_tab()\n"
   ]
  },
  {
   "cell_type": "code",
   "execution_count": null,
   "id": "spread-effort",
   "metadata": {},
   "outputs": [],
   "source": [
    "# Optional: block execution until App is closed\n",
    "session.wait()"
   ]
  },
  {
   "cell_type": "code",
   "execution_count": null,
   "id": "documentary-moses",
   "metadata": {},
   "outputs": [],
   "source": [
    "!ip a"
   ]
  },
  {
   "cell_type": "code",
   "execution_count": null,
   "id": "played-notice",
   "metadata": {},
   "outputs": [],
   "source": []
  }
 ],
 "metadata": {
  "environment": {
   "name": "rapids-gpu.0-18.m65",
   "type": "gcloud",
   "uri": "gcr.io/deeplearning-platform-release/rapids-gpu.0-18:m65"
  },
  "kernelspec": {
   "display_name": "Python [conda env:pytorch]",
   "language": "python",
   "name": "conda-env-pytorch-py"
  },
  "language_info": {
   "codemirror_mode": {
    "name": "ipython",
    "version": 3
   },
   "file_extension": ".py",
   "mimetype": "text/x-python",
   "name": "python",
   "nbconvert_exporter": "python",
   "pygments_lexer": "ipython3",
   "version": "3.7.12"
  }
 },
 "nbformat": 4,
 "nbformat_minor": 5
}
