{
 "cells": [
  {
   "cell_type": "code",
   "execution_count": 3,
   "id": "polished-stable",
   "metadata": {},
   "outputs": [
    {
     "name": "stdout",
     "output_type": "stream",
     "text": [
      "classes.txt  labels.txt  test.json  test.txt  train.json  train.txt\r\n"
     ]
    }
   ],
   "source": [
    "!ls data/food-101/meta"
   ]
  },
  {
   "cell_type": "code",
   "execution_count": 4,
   "id": "optical-topic",
   "metadata": {},
   "outputs": [],
   "source": [
    "import pandas as pd"
   ]
  },
  {
   "cell_type": "code",
   "execution_count": 12,
   "id": "opened-detail",
   "metadata": {},
   "outputs": [],
   "source": [
    "df = pd.read_csv(\"data/food-101/meta/train.txt\",header=None,names=['file_path'])\n",
    "df['label_name'] = df['file_path'].apply(lambda x:x.split(\"/\")[-2])\n"
   ]
  },
  {
   "cell_type": "code",
   "execution_count": 13,
   "id": "imposed-romania",
   "metadata": {},
   "outputs": [
    {
     "data": {
      "text/html": [
       "<div>\n",
       "<style scoped>\n",
       "    .dataframe tbody tr th:only-of-type {\n",
       "        vertical-align: middle;\n",
       "    }\n",
       "\n",
       "    .dataframe tbody tr th {\n",
       "        vertical-align: top;\n",
       "    }\n",
       "\n",
       "    .dataframe thead th {\n",
       "        text-align: right;\n",
       "    }\n",
       "</style>\n",
       "<table border=\"1\" class=\"dataframe\">\n",
       "  <thead>\n",
       "    <tr style=\"text-align: right;\">\n",
       "      <th></th>\n",
       "      <th>file_path</th>\n",
       "      <th>label_name</th>\n",
       "    </tr>\n",
       "  </thead>\n",
       "  <tbody>\n",
       "    <tr>\n",
       "      <th>0</th>\n",
       "      <td>apple_pie/1005649</td>\n",
       "      <td>apple_pie</td>\n",
       "    </tr>\n",
       "    <tr>\n",
       "      <th>1</th>\n",
       "      <td>apple_pie/1014775</td>\n",
       "      <td>apple_pie</td>\n",
       "    </tr>\n",
       "    <tr>\n",
       "      <th>2</th>\n",
       "      <td>apple_pie/1026328</td>\n",
       "      <td>apple_pie</td>\n",
       "    </tr>\n",
       "    <tr>\n",
       "      <th>3</th>\n",
       "      <td>apple_pie/1028787</td>\n",
       "      <td>apple_pie</td>\n",
       "    </tr>\n",
       "    <tr>\n",
       "      <th>4</th>\n",
       "      <td>apple_pie/1043283</td>\n",
       "      <td>apple_pie</td>\n",
       "    </tr>\n",
       "    <tr>\n",
       "      <th>...</th>\n",
       "      <td>...</td>\n",
       "      <td>...</td>\n",
       "    </tr>\n",
       "    <tr>\n",
       "      <th>75745</th>\n",
       "      <td>waffles/981485</td>\n",
       "      <td>waffles</td>\n",
       "    </tr>\n",
       "    <tr>\n",
       "      <th>75746</th>\n",
       "      <td>waffles/98238</td>\n",
       "      <td>waffles</td>\n",
       "    </tr>\n",
       "    <tr>\n",
       "      <th>75747</th>\n",
       "      <td>waffles/982668</td>\n",
       "      <td>waffles</td>\n",
       "    </tr>\n",
       "    <tr>\n",
       "      <th>75748</th>\n",
       "      <td>waffles/995085</td>\n",
       "      <td>waffles</td>\n",
       "    </tr>\n",
       "    <tr>\n",
       "      <th>75749</th>\n",
       "      <td>waffles/999047</td>\n",
       "      <td>waffles</td>\n",
       "    </tr>\n",
       "  </tbody>\n",
       "</table>\n",
       "<p>75750 rows × 2 columns</p>\n",
       "</div>"
      ],
      "text/plain": [
       "               file_path label_name\n",
       "0      apple_pie/1005649  apple_pie\n",
       "1      apple_pie/1014775  apple_pie\n",
       "2      apple_pie/1026328  apple_pie\n",
       "3      apple_pie/1028787  apple_pie\n",
       "4      apple_pie/1043283  apple_pie\n",
       "...                  ...        ...\n",
       "75745     waffles/981485    waffles\n",
       "75746      waffles/98238    waffles\n",
       "75747     waffles/982668    waffles\n",
       "75748     waffles/995085    waffles\n",
       "75749     waffles/999047    waffles\n",
       "\n",
       "[75750 rows x 2 columns]"
      ]
     },
     "execution_count": 13,
     "metadata": {},
     "output_type": "execute_result"
    }
   ],
   "source": [
    "df"
   ]
  },
  {
   "cell_type": "code",
   "execution_count": null,
   "id": "african-departure",
   "metadata": {},
   "outputs": [],
   "source": []
  }
 ],
 "metadata": {
  "environment": {
   "name": "rapids-gpu.0-18.m65",
   "type": "gcloud",
   "uri": "gcr.io/deeplearning-platform-release/rapids-gpu.0-18:m65"
  },
  "kernelspec": {
   "display_name": "Python [conda env:pytorch]",
   "language": "python",
   "name": "conda-env-pytorch-py"
  },
  "language_info": {
   "codemirror_mode": {
    "name": "ipython",
    "version": 3
   },
   "file_extension": ".py",
   "mimetype": "text/x-python",
   "name": "python",
   "nbconvert_exporter": "python",
   "pygments_lexer": "ipython3",
   "version": "3.7.12"
  }
 },
 "nbformat": 4,
 "nbformat_minor": 5
}
